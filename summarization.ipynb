{
 "cells": [
  {
   "cell_type": "code",
   "execution_count": 1,
   "metadata": {},
   "outputs": [],
   "source": [
    "import os\n",
    "import pandas as pd\n",
    "from pathlib import Path\n",
    "\n",
    "path = Path('../parsing_easylaw_ai/data')"
   ]
  },
  {
   "cell_type": "code",
   "execution_count": 2,
   "metadata": {},
   "outputs": [],
   "source": [
    "cases = pd.read_csv(path / 'cases_base.csv', sep='\\t', encoding='utf-8', nrows=10000)"
   ]
  },
  {
   "cell_type": "markdown",
   "metadata": {},
   "source": [
    "## check number of tokens"
   ]
  },
  {
   "cell_type": "code",
   "execution_count": 3,
   "metadata": {},
   "outputs": [],
   "source": [
    "import tiktoken\n",
    "enc = tiktoken.get_encoding(\"cl100k_base\")\n",
    "assert enc.decode(enc.encode(\"hello world\")) == \"hello world\"\n",
    "\n",
    "\n",
    "enc = tiktoken.encoding_for_model(\"gpt-3.5-turbo\")"
   ]
  },
  {
   "cell_type": "code",
   "execution_count": 4,
   "metadata": {},
   "outputs": [],
   "source": [
    "cases['Tokens_of_judgment'] = cases['Judgment'].apply(lambda x: len(enc.encode(x)))"
   ]
  },
  {
   "cell_type": "code",
   "execution_count": 6,
   "metadata": {},
   "outputs": [
    {
     "data": {
      "text/plain": [
       "<Axes: ylabel='Frequency'>"
      ]
     },
     "execution_count": 6,
     "metadata": {},
     "output_type": "execute_result"
    },
    {
     "data": {
      "image/png": "[encoded data removed]",
      "text/plain": [
       "<Figure size 640x480 with 1 Axes>"
      ]
     },
     "metadata": {},
     "output_type": "display_data"
    }
   ],
   "source": [
    "cases['Tokens_of_judgment'].plot.hist(bins=100)"
   ]
  },
  {
   "cell_type": "code",
   "execution_count": 7,
   "metadata": {},
   "outputs": [
    {
     "data": {
      "text/plain": [
       "<Axes: ylabel='Frequency'>"
      ]
     },
     "execution_count": 7,
     "metadata": {},
     "output_type": "execute_result"
    },
    {
     "data": {
      "image/png": "[encoded data removed]",
      "text/plain": [
       "<Figure size 640x480 with 1 Axes>"
      ]
     },
     "metadata": {},
     "output_type": "display_data"
    }
   ],
   "source": [
    "cases.loc[cases['Tokens_of_judgment'] < 2 ** 14, 'Tokens_of_judgment'].plot.hist(bins=100)"
   ]
  },
  {
   "cell_type": "code",
   "execution_count": null,
   "metadata": {},
   "outputs": [
    {
     "name": "stdout",
     "output_type": "stream",
     "text": [
      "Average number of tokens per 1 case: 2672.098268223923\n",
      "Total cost of all cases: 701.4257954087798\n"
     ]
    }
   ],
   "source": [
    "# for Chat-GPT:\n",
    "# Input:\t$0.0015 / 1K tokens\n",
    "# Output: \t$0.002 / 1K tokens\n",
    "\n",
    "print(f\"Average number of tokens per 1 case: {(cases['Tokens_of_judgment'].sum() / cases.shape[0])}\")\n",
    "print(f\"Total cost of all cases: {((cases['Tokens_of_judgment'].sum() / cases.shape[0]) * 150000) * ((0.0015 + 0.002) / 2) / 1000}\")"
   ]
  },
  {
   "cell_type": "code",
   "execution_count": 9,
   "metadata": {},
   "outputs": [
    {
     "name": "stdout",
     "output_type": "stream",
     "text": [
      "\n",
      "MALIK HAMID SAEED, J.- Accused-respondent Salim Khan son of Dr. Amir Dad was tried by Mr. Attaullah Khan, Sessions Judge, Bannu for the murder of Musharraf Khan by firing at him. The learned Sessions Judge on completion the trial arrived at the conclusion that prosecution failed to prove its case against the accused-respondent beyond any reasonable doubt and, therefore, acquitted him from the charge of murder.\n",
      "\n",
      "The State has challenged the order of - acquittal recorded on 20-4-1993 through this appeal.\n",
      "\n",
      "2. The case of the prosecution as per F.I.R. briefly runs as under:-\n",
      "\n",
      "\"On the fateful day i.e. 25-10-1997 complainant Payo Din alongwith his two nephews namely Shah Muhammad and Ghulam Nawaz went to Bazar for making purchases. They found Musharraf Khan (deceased) son of complainant sitting in the shop of one Sher Ali Baz in Tanchi Bazar and they also sat with him. Acquitted co-accused Hamidullah alias Titto and Salim Khan the present accused-respondent emerged on the scene armed with .12 bore D.B. shot guns and fired two shots each on the deceased Musharraf Khan who was hit and died on the spot. Motive for the offence stated in evidence as father of the accused-respondent was murdered for which the deceased was charged.\" 3. At the trial prosecution has examined P.W.l Doctor Mumtaz Khan who had conducted the post-mortem examination on the dead body of Musharraf Khan deceased at 4-30 p.m. on 25-10-1997 and found the following:-\n",
      "\n",
      "External injuries j\n",
      "\n",
      "(1) 3 fire-arm inlet wounds 1/4\" x 1/4\" in size on ventral aspect of left forearm 4\" above the wrist joint.\n",
      "\n",
      "(2) 3 fire-arm outlet wounds 1/3\" x 1/3\" in size on posterior aspect of left forearm. The muscles are wounded and bones fractured. It corresponds to wound No.l.\n",
      "\n",
      "(3) A group of .12 fire-arm inlet wounds 1/4\" x 1/4\" each in size on the front of left side of chest 3” below the left nipple in an area about 4\" in circumstance. They were about half to 1\" apart from one another.\n",
      "\n",
      "(4) 3 fire-arm inlet wounds 1/4\" x 1/4\" each in size on the front of chest half inch to the right of mid-sternal line and half inch below the sternal clavicular joint.\n",
      "\n",
      "(5) 2 fire-arm inlet wounds 1/4\" x 1/4\" each in size 1/2” apart and 1/2\" below wound No.4.\n",
      "\n",
      "(6) 2 fire-arm inlet wounds 1/4\" x 1/4\" each in size, 1\" apart from one another in the second and third interspace 4\" to the right of mid-sternal line.\n",
      "\n",
      "(7) 3 fire-arm inlet wounds 1/4\" x 1/4\" each in size on the left side of face one below the orbital cavity one just below it and one through it.\n",
      "\n",
      "(8) 2 fire-arm inlet wounds 1/4\" x 1/4\" each in size one on the left side and one on the bridge of the nose.\n",
      "\n",
      "(9) A fire-arm inlet wound 1/4\" x 1/4\" in size on the back of left side of scalp 1\" to the left of occiput. It corresponds to wounds Nos.7 and 8.\n",
      "\n",
      "(10) A fire-arm outlet wound 1/3\" x 1/3\" in size on the back of left side of head 2\" below and to left of occiput, its corresponds to wounds Nos.7 and 8.\n",
      "\n",
      "(11) A graze wound 1/4\" x 1/2\" in size on the right side of upper lip.\n",
      "\n",
      "(12) 3 fire-arm outlet wounds 1/3\" x 1/3” each in size 2\" apart on the right scapula, they correspond to wounds Nos.4, 5 and 6, pellets palpable under the skin.\n",
      "\n",
      "(13) 3 fire-arm outlet wounds 1/3\" x 1/3” in size on the back of left side of chest apart in the 8th and 9th interspaces, 4” to the left of mid-spinal line. Pellets palpable under the skin. They correspond to wound No.3.\n",
      "\n",
      "(14) A fire-arm outlet wound 1/3\" x 1/3\" in size on the back of left side of chest in the 7th interspace and 3\" to the left of mid spinal line. It corresponds to wounds Nos.4, 5 and 6.\n",
      "\n",
      "(15) 3 grazed wounds 1/4\" x 1/2\" in size one inch apart and one inch to the left of wound No.3.\n",
      "\n",
      "On internal examination the doctor found that nasal bone wounded,\n",
      "\n",
      "frontal left perietal and occipital bones fractured, manages wounded, brain matter, vessels of brain all wounded badly. Left maxillary bone was also fractured. Chest walls at the site of impact, 8th and 9th ribs fractured on the left side, both the lungs, heart, pericardium and blood vessels were wounded. Abdominal walls wounded, peritonium wounded, diaphragm wounded, stomach perforated and also intestines at various places liver and spleen wounded, kidney was healthy and intact, bladder contained two ounces urine.\n",
      "\n",
      "In the opinion of the doctor death was due to shock, haemorrhage and injuries to the vital organs and probable time between injuries and death could be instantaneous , and between death and post-mortem examination 1 to 2 hours.\n",
      "\n",
      "4. P.W.2 Shahabuddin who was, A.-S.I., Police Station, Bannu City has registered the case on the report of complainant Payo Din. He has also prepared the injury sheet and inquest report Exhs.P.C. and P.D. of the deceased and then sent the dead body for post-mortem examination. P.W.3 Ali Baz Khan had identified the dead body'of the deceased. Payo Din, complainant was stated to be confined to bed and is not in a position to appear before the Court as per statement of Doctor Umar Nawaz who was examined as C.W. Therefore, statement of the complainant recorded in the trial of the acquittedvaccused recorded on 17-12-1978 was transferred to this case under the provisions of Article 47 of Qanun-e-Shahadat Act. P.W.4 Shah Mahmood being an eyewitness gave the ocular account of the occurrence. He is a marginal witness to recovery memo. Exh.P.F. about the recovery of blood from the spot and witness to recovery of 4 Mooras through Exh.P.D. He is also a witness to recovery memos. Exh.P.J., Exh.P.L. P.W.5 Ghulam Nawaz is also an eye-witness to the occurrence who corroborated the statement of P.W.4 Shah Mahmood. P.W.6 Muhammad Ayub Khan was entrusted with the warrants of arrest under section 204, Cr.P.C.\n",
      "\n",
      "against the accused. He searched for him but was reported to have gone into hiding to the tribal territory. Proclamation notices in accordance with the law were issued against the accused-respondent. He also accompanied the dead body from police station to mortuary and have brought the post-mortem papers and sealed bottle containing 9 pellets and delivered the same to the Investigating Officer P.W.7 Muhammad Khan, S.H.O. conducted the investigation of the case.\n",
      "\n",
      "5. In his statement recorded under section 342, Cr.P.C. accused-respondent denied the charges.\n",
      "\n",
      "6. We have heard Mr. Muhammad Khan Khakwani, Advocate learned counsel for the State, Mr. Dost Muhammad Khan, Advocate for complainant and Khawaja Nawaz Khan, Advocate for the accused-respondent.\n",
      "\n",
      "7. Learned counsel for the State and complainant contended that occurrence was of a day light and report of the occurrence was promptly lodged wherein both the acquitted co-accused and present accused-respondent are directly charged for the commission of the offence. They further contended that respondent remained in abscondence for a sufficient long time and his explanation to this fact is not plausible. Learned counsel for the complainant further submitted that the appeal against the acquittal of co-accused Hamidullah alias Titu was still pending before the Supreme Court of Pakistan when he died and, therefore, the appeal against him was abated and as such the acquittal order of the co-accused of this Court could not be termed to have attained finality and in the circumstances reliance on the said judgment by the trial Judge was not correct and the order of acquittal passed in this case by the learned Sessions Judge, Bannu who was influenced by the said judgment was against the law and facts. The learned counsel for the accused-respondent refuted the arguments of the State Counsel and of complainant and submitted that occurrence was taken place in a thickly populated Bazar but not a single independent witness was produced by the prosecution and so for P.Ws. Nos.3, 4 and 5 are concerned they are highly interested witnesses being closely related to the deceased.\n",
      "\n",
      "8. We have considered the arguments advanced at the Bar from both thei sides. Admittedly all the three eye-witnesses are related to deceased.! Complainant Payo Din is the father of the deceased while P.W.4 Shah Mahmood and P.W.5 Ghulam Nawaz are first cousins of the deceased. No doubt the testimony of related witnesses can be accepted who are natural witnesses of an occurrence provided it is proved that they have seen the occurrence and their testimony should not be doubted only because they happen to be related to deceased person. The occurrence of this case took place in Tanchi Bazar of Bannu in a broad daylight and, therefore, it is not at all possible to imagine that the culprits were not seen by other persons present in the Bazar at the time of incident. None from the Bazar or adjacent shopkeepers were cited or produced at the trial in support of the prosecution case. So much so one Sher Ali Baz Khan in whose shop the occurrence has taken place was not produced as witness to depose about the presence of the deceased and three eye-witnesses in his shop. No doubt it is stated in the evidence of P.Ws. Nos.3, 4 and 5 that the said Ali Sher Baz has gone to fetch tea for them and has not seen the occurrence but at least he could state about the presence of the deceased and witnesses in his shop. In such circumstances the presence of the witnesses on the spot in absence of any independent evidence casts doubt when the shop of the complainant is also situated in the same Bazar. Further, there is an F.I.R. Exh.P.D. available on the record bearing F.I.R. No.53, dated 28-8-1975 under section 307/34, P.P.C. of Police Station Bannu lodged by the present accused-respondent against the acquitted co-accused Hamidullah alias Titu in the shape of dying declaration for effectively firing at him. From the contents of F.I.R. it reveals that present accused-respondent was on inimical terms with the acquitted co-accused and there is no evidence on the record that whether any compromise between the said two has been taken place. This very fact further casts serious doubt about the participation of the accused-respondent in commission of the present occurrence in the company of the acquitted co-accused. It was the imperative) duty of the Investigating Officer to have procured some independent evidence about the presence of the witnesses at the spot.\n",
      "\n",
      "The case of co-accused Hamidullah alias Titu which resulted in acquittal by this Court was at par with the present accused-respondent and his acquittal order remained intact and could not be disturbed by the Supreme Court due to his death but as a matter of fact, rule of consistency demands equal treatment with the present accused-respondent.\n",
      "\n",
      "For these reasons we hold that the accused-respondent was rightly acquitted by the learned Sessions Judge, Bannu and there are no reasons warranting interference with the acquittal order. The appeal is, therefore, dismissed.\n",
      "\n",
      "N.H.Q./92/P y Appeal dismissed.\n"
     ]
    }
   ],
   "source": [
    "case = cases[(2500 < cases['Tokens_of_judgment']) & (cases['Tokens_of_judgment'] < 3000)].iloc[0]['Judgment']\n",
    "\n",
    "print(case)"
   ]
  },
  {
   "cell_type": "markdown",
   "metadata": {},
   "source": [
    "# NLTK\n",
    "\n",
    "https://www.geeksforgeeks.org/python-text-summarizer/\n",
    "\n",
    "the tool turned out to be ineffective"
   ]
  },
  {
   "cell_type": "code",
   "execution_count": 38,
   "metadata": {},
   "outputs": [],
   "source": [
    "import re\n",
    "import nltk\n",
    "import heapq\n",
    "from nltk.corpus import stopwords\n",
    "from nltk.tokenize import word_tokenize\n",
    "\n",
    "# nltk.download('punkt')\n",
    "# nltk.download('stopwords')"
   ]
  },
  {
   "cell_type": "code",
   "execution_count": null,
   "metadata": {},
   "outputs": [],
   "source": [
    "stopWords = set(stopwords.words(\"english\"))\n",
    "words = word_tokenize(case)"
   ]
  },
  {
   "cell_type": "code",
   "execution_count": null,
   "metadata": {},
   "outputs": [],
   "source": [
    "sentence_list = nltk.sent_tokenize(case)\n",
    "\n",
    "formatted_case = re.sub('[^a-zA-Z]', ' ', case)\n",
    "formatted_case = re.sub(r'\\s+', ' ', formatted_case)"
   ]
  },
  {
   "cell_type": "code",
   "execution_count": null,
   "metadata": {},
   "outputs": [],
   "source": [
    "stopwords = nltk.corpus.stopwords.words('english')\n",
    "\n",
    "word_frequencies = {}\n",
    "for word in nltk.word_tokenize(formatted_case):\n",
    "    if word not in stopwords:\n",
    "        if word not in word_frequencies.keys():\n",
    "            word_frequencies[word] = 1\n",
    "        else:\n",
    "            word_frequencies[word] += 1"
   ]
  },
  {
   "cell_type": "code",
   "execution_count": 44,
   "metadata": {},
   "outputs": [],
   "source": [
    "maximum_frequncy = max(word_frequencies.values())\n",
    "\n",
    "for word in word_frequencies.keys():\n",
    "    word_frequencies[word] = (word_frequencies[word]/maximum_frequncy)"
   ]
  },
  {
   "cell_type": "code",
   "execution_count": 45,
   "metadata": {},
   "outputs": [],
   "source": [
    "sentence_scores = {}\n",
    "for sent in sentence_list:\n",
    "    for word in nltk.word_tokenize(sent.lower()):\n",
    "        if word in word_frequencies.keys():\n",
    "            if len(sent.split(' ')) < 30:\n",
    "                if sent not in sentence_scores.keys():\n",
    "                    sentence_scores[sent] = word_frequencies[word]\n",
    "                else:\n",
    "                    sentence_scores[sent] += word_frequencies[word]"
   ]
  },
  {
   "cell_type": "code",
   "execution_count": 46,
   "metadata": {},
   "outputs": [],
   "source": [
    "summary_sentences = heapq.nlargest(7, sentence_scores, key=sentence_scores.get)\n",
    "\n",
    "summary = ' '.join(summary_sentences)"
   ]
  },
  {
   "cell_type": "code",
   "execution_count": 47,
   "metadata": {},
   "outputs": [
    {
     "name": "stdout",
     "output_type": "stream",
     "text": [
      "(15) 3 grazed wounds 1/4\" x 1/2\" in size one inch apart and one inch to the left of wound No.3. (8) 2 fire-arm inlet wounds 1/4\" x 1/4\" each in size one on the left side and one on the bridge of the nose. (9) A fire-arm inlet wound 1/4\" x 1/4\" in size on the back of left side of scalp 1\" to the left of occiput. (6) 2 fire-arm inlet wounds 1/4\" x 1/4\" each in size, 1\" apart from one another in the second and third interspace 4\" to the right of mid-sternal line. On internal examination the doctor found that nasal bone wounded,\n",
      "\n",
      "frontal left perietal and occipital bones fractured, manages wounded, brain matter, vessels of brain all wounded badly. (2) 3 fire-arm outlet wounds 1/3\" x 1/3\" in size on posterior aspect of left forearm. (5) 2 fire-arm inlet wounds 1/4\" x 1/4\" each in size 1/2” apart and 1/2\" below wound No.4.\n"
     ]
    }
   ],
   "source": [
    "print(summary)"
   ]
  },
  {
   "cell_type": "markdown",
   "metadata": {},
   "source": [
    "# GENSIM\n",
    "\n",
    "https://reintech.io/blog/create-text-summarization-tool-gensim\n",
    "\n",
    "the tool turned out to be ineffective"
   ]
  },
  {
   "cell_type": "markdown",
   "metadata": {},
   "source": [
    "# SPACY\n",
    "\n",
    "https://www.activestate.com/blog/how-to-do-text-summarization-with-python/\n",
    "\n",
    "the tool turned out to be ineffective"
   ]
  },
  {
   "cell_type": "code",
   "execution_count": 12,
   "metadata": {},
   "outputs": [],
   "source": [
    "import spacy\n",
    "from spacy.lang.en.stop_words import STOP_WORDS\n",
    "from string import punctuation\n",
    "from heapq import nlargest\n",
    "\n",
    "# python -m spacy download en_core_web_sm"
   ]
  },
  {
   "cell_type": "code",
   "execution_count": 15,
   "metadata": {},
   "outputs": [],
   "source": [
    "def summarize(text, per):\n",
    "    nlp = spacy.load('en_core_web_sm')\n",
    "    doc= nlp(text)\n",
    "    tokens=[token.text for token in doc]\n",
    "    word_frequencies={}\n",
    "    for word in doc:\n",
    "        if word.text.lower() not in list(STOP_WORDS):\n",
    "            if word.text.lower() not in punctuation:\n",
    "                if word.text not in word_frequencies.keys():\n",
    "                    word_frequencies[word.text] = 1\n",
    "                else:\n",
    "                    word_frequencies[word.text] += 1\n",
    "    max_frequency=max(word_frequencies.values())\n",
    "    for word in word_frequencies.keys():\n",
    "        word_frequencies[word]=word_frequencies[word]/max_frequency\n",
    "    sentence_tokens= [sent for sent in doc.sents]\n",
    "    sentence_scores = {}\n",
    "    for sent in sentence_tokens:\n",
    "        for word in sent:\n",
    "            if word.text.lower() in word_frequencies.keys():\n",
    "                if sent not in sentence_scores.keys():                            \n",
    "                    sentence_scores[sent]=word_frequencies[word.text.lower()]\n",
    "                else:\n",
    "                    sentence_scores[sent]+=word_frequencies[word.text.lower()]\n",
    "    select_length=int(len(sentence_tokens)*per)\n",
    "    summary=nlargest(select_length, sentence_scores,key=sentence_scores.get)\n",
    "    final_summary=[word.text for word in summary]\n",
    "    summary=''.join(final_summary)\n",
    "    return summary"
   ]
  },
  {
   "cell_type": "code",
   "execution_count": 22,
   "metadata": {},
   "outputs": [
    {
     "name": "stdout",
     "output_type": "stream",
     "text": [
      "3. At the trial prosecution has examined P.W.l Doctor Mumtaz Khan who had conducted the post-mortem examination on the dead body of Musharraf Khan deceased at 4-30 p.m. on 25-10-1997 and found the following:-\n",
      "\n",
      "External injuries j\n",
      "\n",
      "(1) 3 fire-arm inlet wounds 1/4\" x 1/4\" in size on ventral aspect of left forearm 4\" above the wrist joint.\n",
      "\n",
      "\n"
     ]
    }
   ],
   "source": [
    "print(summarize(case, 0.02))"
   ]
  },
  {
   "cell_type": "markdown",
   "metadata": {},
   "source": [
    "# T5 (baseline)\n",
    "\n",
    "https://thinkinfi.com/abstractive-text-summarization-in-12-lines-with-t5/\n",
    "\n",
    "better than nothing, but still not so good"
   ]
  },
  {
   "cell_type": "code",
   "execution_count": 23,
   "metadata": {},
   "outputs": [],
   "source": [
    "import torch\n",
    "from transformers import T5Tokenizer, T5ForConditionalGeneration"
   ]
  },
  {
   "cell_type": "code",
   "execution_count": 25,
   "metadata": {},
   "outputs": [],
   "source": [
    "t5_name = 't5-small'        # t5-base\n",
    "t5_model = T5ForConditionalGeneration.from_pretrained(t5_name)\n",
    "t5_tokenizer = T5Tokenizer.from_pretrained(t5_name)"
   ]
  },
  {
   "cell_type": "code",
   "execution_count": 10,
   "metadata": {},
   "outputs": [],
   "source": [
    "input_text = case.strip().replace(\"\\n\", \"\")\n",
    "\n",
    "t5_ready_text = \"summarize: \""
   ]
  },
  {
   "cell_type": "code",
   "execution_count": 11,
   "metadata": {},
   "outputs": [],
   "source": [
    "device = torch.device('cpu')"
   ]
  },
  {
   "cell_type": "code",
   "execution_count": 21,
   "metadata": {},
   "outputs": [],
   "source": [
    "tokenized_text = t5_tokenizer.encode(\n",
    "    t5_ready_text, \n",
    "    return_tensors='pt', \n",
    "    max_length=512,\n",
    "    padding='max_length', \n",
    "    truncation=True)\\\n",
    "        .to(device)"
   ]
  },
  {
   "cell_type": "code",
   "execution_count": 21,
   "metadata": {},
   "outputs": [],
   "source": [
    "summary_tokens = t5_model.generate(\n",
    "    tokenized_text,\n",
    "    num_beams=4,\n",
    "    no_repeat_ngram_size=2,\n",
    "    length_penalty=2.0,\n",
    "    min_length=30,\n",
    "    max_length=70,\n",
    "    early_stopping=True\n",
    "    )"
   ]
  },
  {
   "cell_type": "code",
   "execution_count": 15,
   "metadata": {},
   "outputs": [
    {
     "name": "stdout",
     "output_type": "stream",
     "text": [
      "259\n",
      "Accused-respondent salim khan son of dr.\n",
      "amir dad was tried by mr.\n",
      "attaullah khan, sessions judge, bannu for the murder of musharraf khan by firing at him.\n",
      "the learned sessions judge on completion the trial arrived at the conclusion that prosecution failed to\n"
     ]
    }
   ],
   "source": [
    "output = t5_tokenizer.decode(summary_tokens[0], skip_special_tokens=True, clean_up_tokenization_spaces=True)\n",
    "\n",
    "print(len(output))\n",
    "print(output.replace('. ', '.\\n').capitalize())"
   ]
  },
  {
   "cell_type": "markdown",
   "metadata": {},
   "source": [
    "# Models from HuggingFace"
   ]
  },
  {
   "cell_type": "code",
   "execution_count": 10,
   "metadata": {},
   "outputs": [],
   "source": [
    "from transformers import pipeline, AutoTokenizer\n",
    "import re\n",
    "\n",
    "\n",
    "tokenizer = AutoTokenizer.from_pretrained('marianna13/flan-t5-base-summarization')\n",
    "\n",
    "# summarizer = pipeline(\"summarization\", model='slauw87/bart_summarisation')\n",
    "# summarizer = pipeline(\"summarization\", do_sample=False)"
   ]
  },
  {
   "cell_type": "code",
   "execution_count": 11,
   "metadata": {},
   "outputs": [],
   "source": [
    "# messages.append({\"role\": \"user\", \"content\": f\"Produce python code using regular expressions that would turn 'Some some .some so.me .so.me so.me. .so.me. .some. some S.O.M.E. So.Me. Some. some. some.' into 'Some some .some so.me .so.me so.me. .so.me. .some.<eos> some S.O.M.E. .SOME SO.ME .SO.ME SO.ME. .SO.ME. .SOME. So.Me. Some.<eos> some.<eos> some.'\"})"
   ]
  },
  {
   "cell_type": "code",
   "execution_count": 14,
   "metadata": {},
   "outputs": [
    {
     "data": {
      "text/plain": [
       "'The State - so.me so.me.<eos>F.I.R. 8. i.e. Dr. Mr. Mrs. for P.Ws.<eos>Nos.3 Cr.P.C. Mress.<eos>Doctor.<eos>through this appeal.<eos>Also.'"
      ]
     },
     "execution_count": 14,
     "metadata": {},
     "output_type": "execute_result"
    }
   ],
   "source": [
    "string_ = 'The State - so.me so.me. F.I.R. 8. i.e. Dr. Mr. Mrs. for P.Ws. Nos.3 Cr.P.C. Mress. Doctor. through this appeal. Also.'\n",
    "\n",
    "# string_ = re.sub(r'\\.([\\S])', r'<<<>>> \\1', string_)\n",
    "\n",
    "re.sub(r'\\B(?<! [A-Z]|Mr)([a-z])[.] ', r'\\1.<eos>', string_)\n",
    "# re.sub(r'\\b(?![A-Za-z]*\\.[A-Za-z]*\\.)[A-Za-z]+\\.(?![A-Za-z])', r'\\g<0>', string_)"
   ]
  },
  {
   "cell_type": "code",
   "execution_count": 15,
   "metadata": {},
   "outputs": [],
   "source": [
    "# why to chunkize: https://github.com/huggingface/transformers/issues/5204#issuecomment-1369389700\n",
    "\n",
    "\n",
    "def text_to_list(text):\n",
    "    text = text.replace('\\n\\n', '<eos>').replace('\\n', '<eos>')\n",
    "    # string_ = re.sub(r'\\.([\\S])', r'<<<>>> \\1', string_)\n",
    "    text = re.sub(r'\\B(?<! [A-Z]|Mr|No|Ex)([a-z])[.] ', r'\\1.<eos>', text)\n",
    "    text = text.replace('Ws.<eos>', 'Ws. ')\n",
    "    # string_ = string_.replace('<<<>>> ', '.')\n",
    "\n",
    "    list_text = text.split('<eos>')\n",
    "    list_text = list(map(lambda x: x.replace('\\n', '    ').strip(), list_text))\n",
    "\n",
    "    return list_text\n",
    "\n",
    "\n",
    "def chunkize(sentences_list, chunk_size = 512):\n",
    "    chunks = [sentences_list[0]]\n",
    "\n",
    "    for sentence in sentences_list[1:]:\n",
    "        if token_len(chunks[-1] + sentence) <= chunk_size:\n",
    "            chunks[-1] += ' ' + sentence\n",
    "        else:\n",
    "            chunks.append(sentence)\n",
    "\n",
    "    return chunks\n",
    "\n",
    "\n",
    "def token_len(str_sequence):\n",
    "    global tokenizer\n",
    "\n",
    "    tokens = tokenizer.encode(\n",
    "        str_sequence,\n",
    "        return_tensors='pt', \n",
    "        max_length=2 ** 20,\n",
    "        truncation=True)\n",
    "\n",
    "    return len(tokens[0])\n",
    "\n",
    "\n",
    "def recursion_summarizing(case, model, chunk_size, min_length, max_length):\n",
    "    if token_len(case) < chunk_size:\n",
    "        return ''\n",
    "\n",
    "    case_list = text_to_list(case)\n",
    "    chunks = chunkize(case_list, chunk_size)\n",
    "\n",
    "    force_summarization = False\n",
    "    # for chunk in chunks:\n",
    "    #     if token_len(chunk) < max_length:\n",
    "    #         force_summarization = True\n",
    "\n",
    "\n",
    "    output = model(chunks, min_length=min_length, max_length=max_length, early_stopping=True)\n",
    "\n",
    "    output = [i['summary_text'] for i in output]\n",
    "    output = ' '.join(output)\n",
    "    output = output.strip().replace(' .', '.')\n",
    "\n",
    "    string_output = '\\n'.join(text_to_list(output))\n",
    "\n",
    "    if token_len(output) > (chunk_size * 2) or force_summarization:\n",
    "        string_output = recursion_summarizing(output, model, chunk_size, min_length, max_length)\n",
    "\n",
    "    return string_output"
   ]
  },
  {
   "cell_type": "code",
   "execution_count": 67,
   "metadata": {},
   "outputs": [],
   "source": [
    "model_ids = [\n",
    "    'sshleifer/distilbart-cnn-12-6',                # bad with punctuation\n",
    "    # 'marianna13/flan-t5-base-summarization',        # generally good, but breaks off at the end\n",
    "    'Falconsai/text_summarization',                 # not bad, lack of punctuation\n",
    "    'slauw87/bart_summarisation'                    # a lot of misinterpreting, but well structured and concise\n",
    "]"
   ]
  },
  {
   "cell_type": "code",
   "execution_count": 62,
   "metadata": {},
   "outputs": [
    {
     "name": "stdout",
     "output_type": "stream",
     "text": [
      "[473, 495, 486, 444, 484, 484]\n",
      "\n",
      "\n",
      "\n",
      "Model sshleifer/distilbart-cnn-12-6 (437 token length):\n",
      "\n",
      " Salim Khan son of Dr. Amir Dad was tried by Mr Attaullah Khan, Sessions Judge, Bannu for the murder of Musharraf Khan by firing at him.\n",
      "The learned Sessions Judge on completion the trial arrived at the conclusion that prosecution failed to prove its case against the accused-respondent beyond any reasonable doubt and, therefore, acquitted him from the charge of murder.\n",
      "A graze wound 1/4\" x 1/2\" in size on the right side of upper lip corresponds to wounds Nos.4, 5 and 6, pellets palpable under the skin.\n",
      "A group of.12 fire-arm inlet wounds on the front of left side of chest 3” below the left nipple in an area about 4\" in circumstance.\n",
      "P.W.2 Shahabuddin who was, A.-S.I., Police Station, Bannu City has registered the case on the report of complainant Payo Din.\n",
      "On internal examination the doctor found that nasal bone wounded,frontal left perietal and occipital bones fractured, brain matter, vessels of brain all wounded badly.\n",
      "P.W.4 Shah Mahmood being an eyewitness gave the ocular account of the occurrence.\n",
      "He accompanied the dead body from police station to mortuary and have brought the post-mortem papers and sealed bottle containing 9 pellets and delivered the same to the Investigating Officer.\n",
      "The appeal against the acquittal of Hamidullah alias Titu was still pending before the Supreme Court of Pakistan when he died and, therefore, the appeal against him was abated.\n",
      "The learned counsel for the accused-respondent refuted the arguments of the State Counsel and of complainant.\n",
      "Ali Sher Baz was on inimical terms with the acquitted co-accused Hamidullah alias Titu.\n",
      "There is no evidence on the record that whether any compromise between the said two has been taken place.\n",
      "\n",
      "[473, 495, 486, 444, 484, 484]\n",
      "\n",
      "\n",
      "\n",
      "Model marianna13/flan-t5-base-summarization (953 token length):\n",
      "\n",
      " \"Accused-respondent Salim Khan, son of Dr. Amir Dad, was tried by Mr. Attaullah Khan, Sessions Judge, Bannu for the murder of Musharraf Khan by firing at him.\n",
      "The learned Sessions Judge concluded that the prosecution failed to prove its case and acquitted him from the charge of murder.\n",
      "The State has appealed the order of - Acquittal recorded on 20-4-1993 through this appeal.\n",
      "The case of the prosecution as per F.I.R. briefly runs as follows: On 25-10-1997, complainant Payo Din along with his two nephews namely Shah Muhammad and Ghulam Nawaz went to Bazar for making purchases and found Mus A group of.12 fire-arm inlet wounds on the front of left side of chest 3\" below the left nipple were found in an area about 4\" in circumstance.\n",
      "They were about half to 1\" apart from each other.\n",
      "The wounds were on the right side of face, one below the orbital cavity, and one on the bridge of the nose.\n",
      "There were also wounds corresponding to wounds Nos.7 and 8. The wound on the back of leftside of scalp corresponds to wound No.7, 8, and a graze wound, No.11, is also referred to as a pellet.\n",
      "There are also a group of wounds in the 8th and 9th interspaces, 4 A fire-arm outlet wound was found on the back of left side of chest in the 7th interspace and 3\" to the left of mid spinal line.\n",
      "It corresponds to wounds Nos.4, 5 and 6. The doctor found nasal bone wounded, frontal left perietal and occipital bones fractured, manages wounded, brain matter, vessels of brain all wounded badly.\n",
      "The left maxillary bone was also fractured.\n",
      "Chest walls at the site of impact, 8th and 9th ribs fractured on the left side, both the lungs, heart, pericardium and blood vessels were wounded.\n",
      "The death was due to shock, haemorrhage and injuries to the vital organs, and the P.W.4 Shah Mahmood, an eyewitness, gave an ocular account of the occurrence.\n",
      "He is a marginal witness to recovery memos, Exh.P.F., and recovery of 4 Mooras.\n",
      "He also corroborated the statement by Ghulam Nawaz.\n",
      "Muhammad Ayub Khan searched for him but was reported to have gone into hiding to the tribal territory.\n",
      "Proclamation notices were issued against the accused-respondent, and he accompanied the dead body from police station to mortuary and brought the post-mortem papers and sealed bottle containing 9 pellets to the Investigating Officer.\n",
      "In his statement recorded under section 342, the accuser denied the charges The learned counsel for the complainant argued that the appeal against the acquittal of co-accused Hamidullah alias Titu was still pending before the Supreme Court of Pakistan when he died, resulting in a delay in the finality of the order.\n",
      "However, the learned Sessions Judge, Bannu, was influenced by the judgment and ruled against the law and facts.\n",
      "The accused-respondent refuted the State Counsel and complainant's arguments, stating that the occurrence took place in Tanchi Bazar, which is not possible to imagine that the culprits were not seen by other persons present in the Bazar at the time of the incident.\n",
      "The witness testimony of related witnesses can be accepted Ali Sher Baz has not seen the occurrence but could state about the presence of deceased and witnesses in his shop.\n",
      "The presence of witnesses on the spot in absence of any independent evidence casts doubt on the participation of the accused-respondent in the commission of the present occurrence in the company of the acquitted co-accused.\n",
      "A F.I.R. Exh.P.D. was lodged by the present accuser against Hamidullah alias Titu in the form of dying declaration for effectively firing at him.\n",
      "This fact further casts serious doubt about the involvement of the accuser in commission of this occurrence.\n",
      "It was the duty of the Investigating Officer to have procured some independent evidence about the\n",
      "\n",
      "[473, 495, 486, 444, 484, 484]\n",
      "\n",
      "\n",
      "\n",
      "Model Falconsai/text_summarization (552 token length):\n",
      "\n",
      " MALIK HAMID SAEED, J.- Accused-respondent Salim Khan son of Dr. Amir Dad was tried by Mr. Attaullah Khan, Sessions Judge, Bannu for the murder of Musharraf Khan.The State has challenged the order of - acquittal recorded on 20-4-1993 through this appeal.\n",
      "3 fire-arm inlet wounds 1/4\" x 1/4\" each in size on the front of left side of chest 3\" below the left nipple in an area about 4\" in circumstance.They were about half to 1\" apart from one another.(4) 3 fire arm inlets wounds 3/4\" X 1/4\" Each in size 1/2” apart and 1/2\" below wound No.4.(6) 2 fire- arm inlet inlets 1/4\" A fire-arm outlet wound 1/3\" x 1/3\" in size on the back of left side of chest in the 7th interspace and 3\" to the left of mid spinal line.On internal examination the doctor found that nasal bone wounded,frontal left perietal and occipital bones fractured, manages wounded, brain matter, vessels of brain all wounded badly.Abdominal walls wounded, peritonium wounded, diaphragm wounded, stomach perforated and also intestines at P.W.4 Shah Mahmood being an eyewitness gave the ocular account of the occurrence.Exh.P.F. about the recovery of blood from the spot and witness to recovery of 4 Mooras through Exh. P.D. He is also an eye-witness who corroborated the statement.\n",
      "the appeal against the acquittal of co-accused Hamidullah alias Titu was still pending before the Supreme Court of Pakistan when he died.\n",
      "The learned counsel for the accused-respondent refuted the arguments of the State Counsel and of complainant.We have considered the arguments advanced at the Bar from both thei sides.\n",
      "No doubt it is stated in the evidence of P.Ws. Nos.3, 4 and 5 that the said Ali Sher Baz has gone to fetch tea for them and has not seen the occurrence but at least he could state about the presence of the deceased and witnesses in his shop.Further, there is an F.I.R. Exh.P.D. available on the record bearing P.P.C. of Police Station Bannu lodged by the present accused-respondent against the\n",
      "\n",
      "[473, 495, 486, 444, 484, 484]\n",
      "\n",
      "\n",
      "\n",
      "Model slauw87/bart_summarisation (438 token length):\n",
      "\n",
      " Salim Khan, son of Dr. Amir Dad was tried for the murder of his father Musharraf Khan by firing at him.\n",
      "He was acquitted by a Sessions Judge, Bannu.\n",
      "The State has appealed the acquittal.\n",
      "There are 12 fire-arm inlet wounds on the front of the chest.\n",
      "There are also 3 outlet wounds, which correspond to wounds Nos. 4, 5, 6, 7, 8 and 13. Payo Din died of gunshot wounds.\n",
      "P.W.2 Shahabuddin registered the case on the report of complainant Payo Din and prepared the injury sheet and inquest report.\n",
      "Ali Baz Khan identified the dead body of the deceased.\n",
      "Shah Mahmood is an eyewitness to the occurrence.\n",
      "Ghulam Nawaz corroborated the statement of P.W.4 Shah Mahmood.\n",
      "Muhammad Ayub Khan was entrusted with the warrants of arrest under section 204, Cr.P.C. against the accused but he went into hiding to the tribal territory.\n",
      "Muhammad Khan, S.H.O. conducted the investigation of the case.\n",
      "The appeal against the acquittal of co-accused Hamidullah alias Titu was still pending before the Supreme Court of Pakistan when he died, so the appeal against him was abated.\n",
      "There was no independent witness in support of the prosecution case.\n",
      "All three eye-witnesses are related to the deceased.\n",
      "Ali Sher Baz's shop is situated in the same Bazar as the place where the incident took place.\n",
      "Ali Sher Baz was on inimical terms with the acquitted co-accused Hamidullah alias Titu.\n",
      "The Investigating Officer should have procured some independent evidence about the presence of the witnesses at the spot.\n",
      "The case of co-defendant was at par with the present accused-respondent and his acquittal order remained intact.\n",
      "\n"
     ]
    }
   ],
   "source": [
    "outputs = {}\n",
    "for model_id in model_ids:\n",
    "    summarizer = pipeline(\"summarization\", model=model_id)\n",
    "\n",
    "    outputs[model_id] = recursion_summarizing(case=case, model=summarizer, chunk_size=512-10, min_length=30, max_length=150)\n",
    "\n",
    "    print(f\"\\n\\n\\nModel {model_id} ({token_len(outputs[model_id])} token length):\\n\\n {outputs[model_id]}\\n\")\n",
    "    \n",
    "    del summarizer"
   ]
  },
  {
   "cell_type": "markdown",
   "metadata": {},
   "source": [
    "# Models from HuggingFace using API"
   ]
  },
  {
   "cell_type": "code",
   "execution_count": null,
   "metadata": {},
   "outputs": [],
   "source": [
    "import requests\n",
    "\n",
    "API_URL = f\"https://api-inference.huggingface.co/models/{model_id}\"\n",
    "headers = {\"Authorization\": f\"Bearer {os.getenv('HF_API_TOKEN')}\"}\n",
    "\n",
    "def query(payload):\n",
    "\tresponse = requests.post(API_URL, headers=headers, json=payload)\n",
    "\treturn response.json()"
   ]
  },
  {
   "cell_type": "code",
   "execution_count": null,
   "metadata": {},
   "outputs": [],
   "source": [
    "output = query({\n",
    "\t\"inputs\": case,\n",
    "})"
   ]
  },
  {
   "cell_type": "code",
   "execution_count": 76,
   "metadata": {},
   "outputs": [
    {
     "name": "stdout",
     "output_type": "stream",
     "text": [
      " Salim Khan son of Dr. Amir Dad was tried by Mr Attaullah Khan, Sessions Judge, Bannu for the murder of Musharraf Khan by firing at him.\n",
      "The State has challenged the order of - acquittal recorded on 20-4-1993 through this appeal .\n"
     ]
    }
   ],
   "source": [
    "print(output[0]['summary_text'].replace(' . ', '.\\n'))"
   ]
  },
  {
   "cell_type": "markdown",
   "metadata": {},
   "source": [
    "### May be tried: https://github.com/amoramine/Pegasus_with_Longformer_summarization"
   ]
  },
  {
   "cell_type": "markdown",
   "metadata": {},
   "source": [
    "# CHATGPT\n",
    "\n",
    "best solution, but it's a paid service :("
   ]
  },
  {
   "cell_type": "code",
   "execution_count": 281,
   "metadata": {},
   "outputs": [],
   "source": [
    "import openai\n",
    "\n",
    "\n",
    "openai.api_key = os.getenv('CHATGPTKEY')"
   ]
  },
  {
   "cell_type": "code",
   "execution_count": 282,
   "metadata": {},
   "outputs": [],
   "source": [
    "messages = [{\"role\": \"system\", \"content\": \"You are an intelligent assistant.\"}]"
   ]
  },
  {
   "cell_type": "code",
   "execution_count": 73,
   "metadata": {},
   "outputs": [],
   "source": [
    "messages.append({\"role\": \"user\", \"content\": f\"Summarize this: {case}\"})\n",
    "chat = openai.ChatCompletion.create(model=\"gpt-3.5-turbo\", messages=messages)"
   ]
  },
  {
   "cell_type": "code",
   "execution_count": 77,
   "metadata": {},
   "outputs": [
    {
     "name": "stdout",
     "output_type": "stream",
     "text": [
      "Salim Khan, the accused-respondent, was acquitted by the Sessions Judge in Bannu for the murder of Musharraf Khan.\n",
      "The judge concluded that the prosecution failed to prove the case against Salim Khan beyond a reasonable doubt.\n",
      "The state has challenged the acquittal through this appeal.\n",
      "The prosecution's case was that Salim Khan, along with another accused, shot and killed Musharraf Khan.\n",
      "The post-mortem examination showed multiple gunshot wounds to the deceased's body.\n",
      "The eyewitnesses to the occurrence were closely related to the deceased, raising doubts about their testimony.\n",
      "No independent witnesses were produced at the trial.\n",
      "The presence of the witnesses at the scene was questioned, as no one else in the busy market witnessed the incident.\n",
      "Salim Khan had earlier filed a complaint against the other accused, indicating a conflict between them.\n",
      "Considering these factors, the court concluded that the acquittal of Salim Khan was justified and dismissed the appeal.\n"
     ]
    }
   ],
   "source": [
    "print(chat.choices[0].message.content.replace('. ', '.\\n'))"
   ]
  },
  {
   "cell_type": "code",
   "execution_count": 78,
   "metadata": {},
   "outputs": [],
   "source": [
    "messages.append({\"role\": \"user\", \"content\": f\"Summarize even more concisely\"})\n",
    "chat = openai.ChatCompletion.create(model=\"gpt-3.5-turbo\", messages=messages)"
   ]
  },
  {
   "cell_type": "code",
   "execution_count": 81,
   "metadata": {},
   "outputs": [
    {
     "name": "stdout",
     "output_type": "stream",
     "text": [
      "The accused, Salim Khan, was tried for the murder of Musharraf Khan.\n",
      "The court found that the prosecution failed to prove the case beyond a reasonable doubt and acquitted the accused.\n",
      "The state has challenged this acquittal but the court upheld it, stating that there was insufficient evidence and no reason to overturn the acquittal.\n",
      "The appeal was dismissed.\n"
     ]
    }
   ],
   "source": [
    "print(chat.choices[0].message.content.replace('. ', '.\\n'))"
   ]
  }
 ],
 "metadata": {
  "kernelspec": {
   "display_name": "fin_venv",
   "language": "python",
   "name": "python3"
  },
  "language_info": {
   "codemirror_mode": {
    "name": "ipython",
    "version": 3
   },
   "file_extension": ".py",
   "mimetype": "text/x-python",
   "name": "python",
   "nbconvert_exporter": "python",
   "pygments_lexer": "ipython3",
   "version": "3.10.13"
  }
 },
 "nbformat": 4,
 "nbformat_minor": 2
}
