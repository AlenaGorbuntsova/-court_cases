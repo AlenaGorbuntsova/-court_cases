{
 "cells": [
  {
   "cell_type": "markdown",
   "metadata": {},
   "source": [
    "From https://www.activestate.com/blog/how-to-do-text-summarization-with-python/ :\n",
    "\n",
    "I need to use **\"Abstractive Text Summarization\"**\n",
    "\n",
    "\n",
    "\n",
    "Diff. approaches from https://www.projectpro.io/article/text-summarization-python-nlp/546 ."
   ]
  },
  {
   "cell_type": "code",
   "execution_count": 17,
   "metadata": {},
   "outputs": [],
   "source": [
    "import pandas as pd\n",
    "from pathlib import Path\n",
    "\n",
    "path = Path('../parsing_easylaw_ai/data')"
   ]
  },
  {
   "cell_type": "code",
   "execution_count": 49,
   "metadata": {},
   "outputs": [],
   "source": [
    "cases = pd.read_csv(path / 'cases_base.csv', sep='\\t', encoding='utf-8', nrows=10000)"
   ]
  },
  {
   "cell_type": "markdown",
   "metadata": {},
   "source": [
    "## check number of tokens"
   ]
  },
  {
   "cell_type": "code",
   "execution_count": 50,
   "metadata": {},
   "outputs": [],
   "source": [
    "import tiktoken\n",
    "enc = tiktoken.get_encoding(\"cl100k_base\")\n",
    "assert enc.decode(enc.encode(\"hello world\")) == \"hello world\"\n",
    "\n",
    "# To get the tokeniser corresponding to a specific model in the OpenAI API:\n",
    "enc = tiktoken.encoding_for_model(\"gpt-3.5-turbo\")"
   ]
  },
  {
   "cell_type": "code",
   "execution_count": 51,
   "metadata": {},
   "outputs": [],
   "source": [
    "cases['Tokens_of_judgment'] = cases['Judgment'].apply(lambda x: len(enc.encode(x)))"
   ]
  },
  {
   "cell_type": "code",
   "execution_count": 60,
   "metadata": {},
   "outputs": [
    {
     "name": "stdout",
     "output_type": "stream",
     "text": [
      "Average number of tokens per 1 case: 2872.6155\n",
      "Total cost of all cases: 754.06156875\n"
     ]
    }
   ],
   "source": [
    "# Input:\t$0.0015 / 1K tokens\n",
    "# Output: \t$0.002 / 1K tokens\n",
    "\n",
    "print(f\"Average number of tokens per 1 case: {(cases['Tokens_of_judgment'].sum() / cases.shape[0])}\")\n",
    "print(f\"Total cost of all cases: {((cases['Tokens_of_judgment'].sum() / cases.shape[0]) * 150000) * ((0.0015 + 0.002) / 2) / 1000}\")"
   ]
  },
  {
   "cell_type": "code",
   "execution_count": 69,
   "metadata": {},
   "outputs": [],
   "source": [
    "case = cases[(2500 < cases['Tokens_of_judgment']) & (cases['Tokens_of_judgment'] < 3000)].iloc[0]['Judgment']"
   ]
  },
  {
   "cell_type": "code",
   "execution_count": 82,
   "metadata": {},
   "outputs": [
    {
     "name": "stdout",
     "output_type": "stream",
     "text": [
      "\n",
      "MALIK HAMID SAEED, J.- Accused-respondent Salim Khan son of Dr. Amir Dad was tried by Mr. Attaullah Khan, Sessions Judge, Bannu for the murder of Musharraf Khan by firing at him. The learned Sessions Judge on completion the trial arrived at the conclusion that prosecution failed to prove its case against the accused-respondent beyond any reasonable doubt and, therefore, acquitted him from the charge of murder.\n",
      "\n",
      "The State has challenged the order of - acquittal recorded on 20-4-1993 through this appeal.\n",
      "\n",
      "2. The case of the prosecution as per F.I.R. briefly runs as under:-\n",
      "\n",
      "\"On the fateful day i.e. 25-10-1997 complainant Payo Din alongwith his two nephews namely Shah Muhammad and Ghulam Nawaz went to Bazar for making purchases. They found Musharraf Khan (deceased) son of complainant sitting in the shop of one Sher Ali Baz in Tanchi Bazar and they also sat with him. Acquitted co-accused Hamidullah alias Titto and Salim Khan the present accused-respondent emerged on the scene armed with .12 bore D.B. shot guns and fired two shots each on the deceased Musharraf Khan who was hit and died on the spot. Motive for the offence stated in evidence as father of the accused-respondent was murdered for which the deceased was charged.\" 3. At the trial prosecution has examined P.W.l Doctor Mumtaz Khan who had conducted the post-mortem examination on the dead body of Musharraf Khan deceased at 4-30 p.m. on 25-10-1997 and found the following:-\n",
      "\n",
      "External injuries j\n",
      "\n",
      "(1) 3 fire-arm inlet wounds 1/4\" x 1/4\" in size on ventral aspect of left forearm 4\" above the wrist joint.\n",
      "\n",
      "(2) 3 fire-arm outlet wounds 1/3\" x 1/3\" in size on posterior aspect of left forearm. The muscles are wounded and bones fractured. It corresponds to wound No.l.\n",
      "\n",
      "(3) A group of .12 fire-arm inlet wounds 1/4\" x 1/4\" each in size on the front of left side of chest 3” below the left nipple in an area about 4\" in circumstance. They were about half to 1\" apart from one another.\n",
      "\n",
      "(4) 3 fire-arm inlet wounds 1/4\" x 1/4\" each in size on the front of chest half inch to the right of mid-sternal line and half inch below the sternal clavicular joint.\n",
      "\n",
      "(5) 2 fire-arm inlet wounds 1/4\" x 1/4\" each in size 1/2” apart and 1/2\" below wound No.4.\n",
      "\n",
      "(6) 2 fire-arm inlet wounds 1/4\" x 1/4\" each in size, 1\" apart from one another in the second and third interspace 4\" to the right of mid-sternal line.\n",
      "\n",
      "(7) 3 fire-arm inlet wounds 1/4\" x 1/4\" each in size on the left side of face one below the orbital cavity one just below it and one through it.\n",
      "\n",
      "(8) 2 fire-arm inlet wounds 1/4\" x 1/4\" each in size one on the left side and one on the bridge of the nose.\n",
      "\n",
      "(9) A fire-arm inlet wound 1/4\" x 1/4\" in size on the back of left side of scalp 1\" to the left of occiput. It corresponds to wounds Nos.7 and 8.\n",
      "\n",
      "(10) A fire-arm outlet wound 1/3\" x 1/3\" in size on the back of left side of head 2\" below and to left of occiput, its corresponds to wounds Nos.7 and 8.\n",
      "\n",
      "(11) A graze wound 1/4\" x 1/2\" in size on the right side of upper lip.\n",
      "\n",
      "(12) 3 fire-arm outlet wounds 1/3\" x 1/3” each in size 2\" apart on the right scapula, they correspond to wounds Nos.4, 5 and 6, pellets palpable under the skin.\n",
      "\n",
      "(13) 3 fire-arm outlet wounds 1/3\" x 1/3” in size on the back of left side of chest apart in the 8th and 9th interspaces, 4” to the left of mid-spinal line. Pellets palpable under the skin. They correspond to wound No.3.\n",
      "\n",
      "(14) A fire-arm outlet wound 1/3\" x 1/3\" in size on the back of left side of chest in the 7th interspace and 3\" to the left of mid spinal line. It corresponds to wounds Nos.4, 5 and 6.\n",
      "\n",
      "(15) 3 grazed wounds 1/4\" x 1/2\" in size one inch apart and one inch to the left of wound No.3.\n",
      "\n",
      "On internal examination the doctor found that nasal bone wounded,\n",
      "\n",
      "frontal left perietal and occipital bones fractured, manages wounded, brain matter, vessels of brain all wounded badly. Left maxillary bone was also fractured. Chest walls at the site of impact, 8th and 9th ribs fractured on the left side, both the lungs, heart, pericardium and blood vessels were wounded. Abdominal walls wounded, peritonium wounded, diaphragm wounded, stomach perforated and also intestines at various places liver and spleen wounded, kidney was healthy and intact, bladder contained two ounces urine.\n",
      "\n",
      "In the opinion of the doctor death was due to shock, haemorrhage and injuries to the vital organs and probable time between injuries and death could be instantaneous , and between death and post-mortem examination 1 to 2 hours.\n",
      "\n",
      "4. P.W.2 Shahabuddin who was, A.-S.I., Police Station, Bannu City has registered the case on the report of complainant Payo Din. He has also prepared the injury sheet and inquest report Exhs.P.C. and P.D. of the deceased and then sent the dead body for post-mortem examination. P.W.3 Ali Baz Khan had identified the dead body'of the deceased. Payo Din, complainant was stated to be confined to bed and is not in a position to appear before the Court as per statement of Doctor Umar Nawaz who was examined as C.W. Therefore, statement of the complainant recorded in the trial of the acquittedvaccused recorded on 17-12-1978 was transferred to this case under the provisions of Article 47 of Qanun-e-Shahadat Act. P.W.4 Shah Mahmood being an eyewitness gave the ocular account of the occurrence. He is a marginal witness to recovery memo. Exh.P.F. about the recovery of blood from the spot and witness to recovery of 4 Mooras through Exh.P.D. He is also a witness to recovery memos. Exh.P.J., Exh.P.L. P.W.5 Ghulam Nawaz is also an eye-witness to the occurrence who corroborated the statement of P.W.4 Shah Mahmood. P.W.6 Muhammad Ayub Khan was entrusted with the warrants of arrest under section 204, Cr.P.C.\n",
      "\n",
      "against the accused. He searched for him but was reported to have gone into hiding to the tribal territory. Proclamation notices in accordance with the law were issued against the accused-respondent. He also accompanied the dead body from police station to mortuary and have brought the post-mortem papers and sealed bottle containing 9 pellets and delivered the same to the Investigating Officer P.W.7 Muhammad Khan, S.H.O. conducted the investigation of the case.\n",
      "\n",
      "5. In his statement recorded under section 342, Cr.P.C. accused-respondent denied the charges.\n",
      "\n",
      "6. We have heard Mr. Muhammad Khan Khakwani, Advocate learned counsel for the State, Mr. Dost Muhammad Khan, Advocate for complainant and Khawaja Nawaz Khan, Advocate for the accused-respondent.\n",
      "\n",
      "7. Learned counsel for the State and complainant contended that occurrence was of a day light and report of the occurrence was promptly lodged wherein both the acquitted co-accused and present accused-respondent are directly charged for the commission of the offence. They further contended that respondent remained in abscondence for a sufficient long time and his explanation to this fact is not plausible. Learned counsel for the complainant further submitted that the appeal against the acquittal of co-accused Hamidullah alias Titu was still pending before the Supreme Court of Pakistan when he died and, therefore, the appeal against him was abated and as such the acquittal order of the co-accused of this Court could not be termed to have attained finality and in the circumstances reliance on the said judgment by the trial Judge was not correct and the order of acquittal passed in this case by the learned Sessions Judge, Bannu who was influenced by the said judgment was against the law and facts. The learned counsel for the accused-respondent refuted the arguments of the State Counsel and of complainant and submitted that occurrence was taken place in a thickly populated Bazar but not a single independent witness was produced by the prosecution and so for P.Ws. Nos.3, 4 and 5 are concerned they are highly interested witnesses being closely related to the deceased.\n",
      "\n",
      "8. We have considered the arguments advanced at the Bar from both thei sides. Admittedly all the three eye-witnesses are related to deceased.! Complainant Payo Din is the father of the deceased while P.W.4 Shah Mahmood and P.W.5 Ghulam Nawaz are first cousins of the deceased. No doubt the testimony of related witnesses can be accepted who are natural witnesses of an occurrence provided it is proved that they have seen the occurrence and their testimony should not be doubted only because they happen to be related to deceased person. The occurrence of this case took place in Tanchi Bazar of Bannu in a broad daylight and, therefore, it is not at all possible to imagine that the culprits were not seen by other persons present in the Bazar at the time of incident. None from the Bazar or adjacent shopkeepers were cited or produced at the trial in support of the prosecution case. So much so one Sher Ali Baz Khan in whose shop the occurrence has taken place was not produced as witness to depose about the presence of the deceased and three eye-witnesses in his shop. No doubt it is stated in the evidence of P.Ws. Nos.3, 4 and 5 that the said Ali Sher Baz has gone to fetch tea for them and has not seen the occurrence but at least he could state about the presence of the deceased and witnesses in his shop. In such circumstances the presence of the witnesses on the spot in absence of any independent evidence casts doubt when the shop of the complainant is also situated in the same Bazar. Further, there is an F.I.R. Exh.P.D. available on the record bearing F.I.R. No.53, dated 28-8-1975 under section 307/34, P.P.C. of Police Station Bannu lodged by the present accused-respondent against the acquitted co-accused Hamidullah alias Titu in the shape of dying declaration for effectively firing at him. From the contents of F.I.R. it reveals that present accused-respondent was on inimical terms with the acquitted co-accused and there is no evidence on the record that whether any compromise between the said two has been taken place. This very fact further casts serious doubt about the participation of the accused-respondent in commission of the present occurrence in the company of the acquitted co-accused. It was the imperative) duty of the Investigating Officer to have procured some independent evidence about the presence of the witnesses at the spot.\n",
      "\n",
      "The case of co-accused Hamidullah alias Titu which resulted in acquittal by this Court was at par with the present accused-respondent and his acquittal order remained intact and could not be disturbed by the Supreme Court due to his death but as a matter of fact, rule of consistency demands equal treatment with the present accused-respondent.\n",
      "\n",
      "For these reasons we hold that the accused-respondent was rightly acquitted by the learned Sessions Judge, Bannu and there are no reasons warranting interference with the acquittal order. The appeal is, therefore, dismissed.\n",
      "\n",
      "N.H.Q./92/P y Appeal dismissed.\n"
     ]
    }
   ],
   "source": [
    "print(case)"
   ]
  },
  {
   "cell_type": "markdown",
   "metadata": {},
   "source": [
    "# NLTK"
   ]
  },
  {
   "cell_type": "markdown",
   "metadata": {},
   "source": [
    "# GENSIM"
   ]
  },
  {
   "cell_type": "markdown",
   "metadata": {},
   "source": [
    "# SPACY"
   ]
  },
  {
   "cell_type": "markdown",
   "metadata": {},
   "source": [
    "# BERT"
   ]
  },
  {
   "cell_type": "markdown",
   "metadata": {},
   "source": [
    "# BART"
   ]
  },
  {
   "cell_type": "markdown",
   "metadata": {},
   "source": [
    "# CHATGPT"
   ]
  },
  {
   "cell_type": "code",
   "execution_count": 70,
   "metadata": {},
   "outputs": [],
   "source": [
    "import os\n",
    "import openai\n",
    "\n",
    " \n",
    "openai.api_key = os.getenv('CHATGPTKEY')"
   ]
  },
  {
   "cell_type": "code",
   "execution_count": 71,
   "metadata": {},
   "outputs": [],
   "source": [
    "# messages = [{\"role\": \"system\", \"content\": \"You are an intelligent assistant.\"}]\n",
    "\n",
    "# while True:\n",
    "#     message = input(\"User : \")\n",
    "#     if message:\n",
    "#         messages.append({\"role\": \"user\", \"content\": message})\n",
    "#         chat = openai.ChatCompletion.create(model=\"gpt-3.5-turbo\", messages=messages)\n",
    "\n",
    "#     reply = chat.choices[0].message.content\n",
    "#     print(f\"ChatGPT: {reply}\")\n",
    "#     messages.append({\"role\": \"assistant\", \"content\": reply})"
   ]
  },
  {
   "cell_type": "code",
   "execution_count": 72,
   "metadata": {},
   "outputs": [],
   "source": [
    "messages = [{\"role\": \"system\", \"content\": \"You are an intelligent assistant.\"}]"
   ]
  },
  {
   "cell_type": "code",
   "execution_count": 73,
   "metadata": {},
   "outputs": [],
   "source": [
    "messages.append({\"role\": \"user\", \"content\": f\"Summarize this: {case}\"})\n",
    "chat = openai.ChatCompletion.create(model=\"gpt-3.5-turbo\", messages=messages)"
   ]
  },
  {
   "cell_type": "code",
   "execution_count": 74,
   "metadata": {},
   "outputs": [
    {
     "data": {
      "text/plain": [
       "\"Salim Khan, the accused-respondent, was acquitted by the Sessions Judge in Bannu for the murder of Musharraf Khan. The judge concluded that the prosecution failed to prove the case against Salim Khan beyond a reasonable doubt. The state has challenged the acquittal through this appeal. The prosecution's case was that Salim Khan, along with another accused, shot and killed Musharraf Khan. The post-mortem examination showed multiple gunshot wounds to the deceased's body. The eyewitnesses to the occurrence were closely related to the deceased, raising doubts about their testimony. No independent witnesses were produced at the trial. The presence of the witnesses at the scene was questioned, as no one else in the busy market witnessed the incident. Salim Khan had earlier filed a complaint against the other accused, indicating a conflict between them. Considering these factors, the court concluded that the acquittal of Salim Khan was justified and dismissed the appeal.\""
      ]
     },
     "execution_count": 74,
     "metadata": {},
     "output_type": "execute_result"
    }
   ],
   "source": [
    "chat.choices[0].message.content"
   ]
  },
  {
   "cell_type": "code",
   "execution_count": 77,
   "metadata": {},
   "outputs": [
    {
     "name": "stdout",
     "output_type": "stream",
     "text": [
      "Salim Khan, the accused-respondent, was acquitted by the Sessions Judge in Bannu for the murder of Musharraf Khan.\n",
      "The judge concluded that the prosecution failed to prove the case against Salim Khan beyond a reasonable doubt.\n",
      "The state has challenged the acquittal through this appeal.\n",
      "The prosecution's case was that Salim Khan, along with another accused, shot and killed Musharraf Khan.\n",
      "The post-mortem examination showed multiple gunshot wounds to the deceased's body.\n",
      "The eyewitnesses to the occurrence were closely related to the deceased, raising doubts about their testimony.\n",
      "No independent witnesses were produced at the trial.\n",
      "The presence of the witnesses at the scene was questioned, as no one else in the busy market witnessed the incident.\n",
      "Salim Khan had earlier filed a complaint against the other accused, indicating a conflict between them.\n",
      "Considering these factors, the court concluded that the acquittal of Salim Khan was justified and dismissed the appeal.\n"
     ]
    }
   ],
   "source": [
    "print(chat.choices[0].message.content.replace('. ', '.\\n'))"
   ]
  },
  {
   "cell_type": "code",
   "execution_count": 78,
   "metadata": {},
   "outputs": [],
   "source": [
    "messages.append({\"role\": \"user\", \"content\": f\"Summarize even more concisely\"})\n",
    "chat = openai.ChatCompletion.create(model=\"gpt-3.5-turbo\", messages=messages)"
   ]
  },
  {
   "cell_type": "code",
   "execution_count": 81,
   "metadata": {},
   "outputs": [
    {
     "name": "stdout",
     "output_type": "stream",
     "text": [
      "The accused, Salim Khan, was tried for the murder of Musharraf Khan.\n",
      "The court found that the prosecution failed to prove the case beyond a reasonable doubt and acquitted the accused.\n",
      "The state has challenged this acquittal but the court upheld it, stating that there was insufficient evidence and no reason to overturn the acquittal.\n",
      "The appeal was dismissed.\n"
     ]
    }
   ],
   "source": [
    "print(chat.choices[0].message.content.replace('. ', '.\\n'))"
   ]
  }
 ],
 "metadata": {
  "kernelspec": {
   "display_name": "fin_venv",
   "language": "python",
   "name": "python3"
  },
  "language_info": {
   "codemirror_mode": {
    "name": "ipython",
    "version": 3
   },
   "file_extension": ".py",
   "mimetype": "text/x-python",
   "name": "python",
   "nbconvert_exporter": "python",
   "pygments_lexer": "ipython3",
   "version": "3.10.13"
  }
 },
 "nbformat": 4,
 "nbformat_minor": 2
}
