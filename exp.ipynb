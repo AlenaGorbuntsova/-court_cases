{
 "cells": [
  {
   "cell_type": "markdown",
   "metadata": {},
   "source": [
    "From https://www.activestate.com/blog/how-to-do-text-summarization-with-python/ :\n",
    "\n",
    "I need to use **\"Abstractive Text Summarization\"**\n",
    "\n",
    "\n",
    "\n",
    "Diff. approaches from https://www.projectpro.io/article/text-summarization-python-nlp/546 ."
   ]
  },
  {
   "cell_type": "code",
   "execution_count": 17,
   "metadata": {},
   "outputs": [],
   "source": [
    "import pandas as pd\n",
    "from pathlib import Path\n",
    "\n",
    "path = Path('../parsing_easylaw_ai/data')"
   ]
  },
  {
   "cell_type": "code",
   "execution_count": 49,
   "metadata": {},
   "outputs": [],
   "source": [
    "cases = pd.read_csv(path / 'cases_base.csv', sep='\\t', encoding='utf-8', nrows=10000)"
   ]
  },
  {
   "cell_type": "markdown",
   "metadata": {},
   "source": [
    "## check number of tokens"
   ]
  },
  {
   "cell_type": "code",
   "execution_count": 50,
   "metadata": {},
   "outputs": [],
   "source": [
    "import tiktoken\n",
    "enc = tiktoken.get_encoding(\"cl100k_base\")\n",
    "assert enc.decode(enc.encode(\"hello world\")) == \"hello world\"\n",
    "\n",
    "# To get the tokeniser corresponding to a specific model in the OpenAI API:\n",
    "enc = tiktoken.encoding_for_model(\"gpt-3.5-turbo\")"
   ]
  },
  {
   "cell_type": "code",
   "execution_count": 51,
   "metadata": {},
   "outputs": [],
   "source": [
    "cases['Tokens_of_judgment'] = cases['Judgment'].apply(lambda x: len(enc.encode(x)))"
   ]
  },
  {
   "cell_type": "code",
   "execution_count": 60,
   "metadata": {},
   "outputs": [
    {
     "name": "stdout",
     "output_type": "stream",
     "text": [
      "Average number of tokens per 1 case: 2872.6155\n",
      "Total cost of all cases: 754.06156875\n"
     ]
    }
   ],
   "source": [
    "# Input:\t$0.0015 / 1K tokens\n",
    "# Output: \t$0.002 / 1K tokens\n",
    "\n",
    "print(f\"Average number of tokens per 1 case: {(cases['Tokens_of_judgment'].sum() / cases.shape[0])}\")\n",
    "print(f\"Total cost of all cases: {((cases['Tokens_of_judgment'].sum() / cases.shape[0]) * 150000) * ((0.0015 + 0.002) / 2) / 1000}\")"
   ]
  },
  {
   "cell_type": "code",
   "execution_count": 69,
   "metadata": {},
   "outputs": [],
   "source": [
    "case = cases[(2500 < cases['Tokens_of_judgment']) & (cases['Tokens_of_judgment'] < 3000)].iloc[0]['Judgment']"
   ]
  },
  {
   "cell_type": "markdown",
   "metadata": {},
   "source": [
    "# NLTK"
   ]
  },
  {
   "cell_type": "markdown",
   "metadata": {},
   "source": [
    "# GENSIM"
   ]
  },
  {
   "cell_type": "markdown",
   "metadata": {},
   "source": [
    "# SPACY"
   ]
  },
  {
   "cell_type": "markdown",
   "metadata": {},
   "source": [
    "# BERT"
   ]
  },
  {
   "cell_type": "markdown",
   "metadata": {},
   "source": [
    "# BART"
   ]
  },
  {
   "cell_type": "markdown",
   "metadata": {},
   "source": [
    "# CHATGPT"
   ]
  },
  {
   "cell_type": "code",
   "execution_count": 70,
   "metadata": {},
   "outputs": [],
   "source": [
    "import os\n",
    "import openai\n",
    "\n",
    " \n",
    "openai.api_key = os.getenv('CHATGPTKEY')"
   ]
  },
  {
   "cell_type": "code",
   "execution_count": 71,
   "metadata": {},
   "outputs": [],
   "source": [
    "# messages = [{\"role\": \"system\", \"content\": \"You are an intelligent assistant.\"}]\n",
    "\n",
    "# while True:\n",
    "#     message = input(\"User : \")\n",
    "#     if message:\n",
    "#         messages.append({\"role\": \"user\", \"content\": message})\n",
    "#         chat = openai.ChatCompletion.create(model=\"gpt-3.5-turbo\", messages=messages)\n",
    "\n",
    "#     reply = chat.choices[0].message.content\n",
    "#     print(f\"ChatGPT: {reply}\")\n",
    "#     messages.append({\"role\": \"assistant\", \"content\": reply})"
   ]
  },
  {
   "cell_type": "code",
   "execution_count": 72,
   "metadata": {},
   "outputs": [],
   "source": [
    "messages = [{\"role\": \"system\", \"content\": \"You are an intelligent assistant.\"}]"
   ]
  },
  {
   "cell_type": "code",
   "execution_count": 73,
   "metadata": {},
   "outputs": [],
   "source": [
    "messages.append({\"role\": \"user\", \"content\": f\"Summarize this: {case}\"})\n",
    "chat = openai.ChatCompletion.create(model=\"gpt-3.5-turbo\", messages=messages)"
   ]
  },
  {
   "cell_type": "code",
   "execution_count": 74,
   "metadata": {},
   "outputs": [
    {
     "data": {
      "text/plain": [
       "\"Salim Khan, the accused-respondent, was acquitted by the Sessions Judge in Bannu for the murder of Musharraf Khan. The judge concluded that the prosecution failed to prove the case against Salim Khan beyond a reasonable doubt. The state has challenged the acquittal through this appeal. The prosecution's case was that Salim Khan, along with another accused, shot and killed Musharraf Khan. The post-mortem examination showed multiple gunshot wounds to the deceased's body. The eyewitnesses to the occurrence were closely related to the deceased, raising doubts about their testimony. No independent witnesses were produced at the trial. The presence of the witnesses at the scene was questioned, as no one else in the busy market witnessed the incident. Salim Khan had earlier filed a complaint against the other accused, indicating a conflict between them. Considering these factors, the court concluded that the acquittal of Salim Khan was justified and dismissed the appeal.\""
      ]
     },
     "execution_count": 74,
     "metadata": {},
     "output_type": "execute_result"
    }
   ],
   "source": [
    "chat.choices[0].message.content"
   ]
  },
  {
   "cell_type": "code",
   "execution_count": 77,
   "metadata": {},
   "outputs": [
    {
     "name": "stdout",
     "output_type": "stream",
     "text": [
      "Salim Khan, the accused-respondent, was acquitted by the Sessions Judge in Bannu for the murder of Musharraf Khan.\n",
      "The judge concluded that the prosecution failed to prove the case against Salim Khan beyond a reasonable doubt.\n",
      "The state has challenged the acquittal through this appeal.\n",
      "The prosecution's case was that Salim Khan, along with another accused, shot and killed Musharraf Khan.\n",
      "The post-mortem examination showed multiple gunshot wounds to the deceased's body.\n",
      "The eyewitnesses to the occurrence were closely related to the deceased, raising doubts about their testimony.\n",
      "No independent witnesses were produced at the trial.\n",
      "The presence of the witnesses at the scene was questioned, as no one else in the busy market witnessed the incident.\n",
      "Salim Khan had earlier filed a complaint against the other accused, indicating a conflict between them.\n",
      "Considering these factors, the court concluded that the acquittal of Salim Khan was justified and dismissed the appeal.\n"
     ]
    }
   ],
   "source": [
    "print(chat.choices[0].message.content.replace('. ', '.\\n'))"
   ]
  },
  {
   "cell_type": "code",
   "execution_count": 78,
   "metadata": {},
   "outputs": [],
   "source": [
    "messages.append({\"role\": \"user\", \"content\": f\"Summarize even more concisely\"})\n",
    "chat = openai.ChatCompletion.create(model=\"gpt-3.5-turbo\", messages=messages)"
   ]
  },
  {
   "cell_type": "code",
   "execution_count": 81,
   "metadata": {},
   "outputs": [
    {
     "name": "stdout",
     "output_type": "stream",
     "text": [
      "The accused, Salim Khan, was tried for the murder of Musharraf Khan.\n",
      "The court found that the prosecution failed to prove the case beyond a reasonable doubt and acquitted the accused.\n",
      "The state has challenged this acquittal but the court upheld it, stating that there was insufficient evidence and no reason to overturn the acquittal.\n",
      "The appeal was dismissed.\n"
     ]
    }
   ],
   "source": [
    "print(chat.choices[0].message.content.replace('. ', '.\\n'))"
   ]
  }
 ],
 "metadata": {
  "kernelspec": {
   "display_name": "fin_venv",
   "language": "python",
   "name": "python3"
  },
  "language_info": {
   "codemirror_mode": {
    "name": "ipython",
    "version": 3
   },
   "file_extension": ".py",
   "mimetype": "text/x-python",
   "name": "python",
   "nbconvert_exporter": "python",
   "pygments_lexer": "ipython3",
   "version": "3.10.13"
  }
 },
 "nbformat": 4,
 "nbformat_minor": 2
}
