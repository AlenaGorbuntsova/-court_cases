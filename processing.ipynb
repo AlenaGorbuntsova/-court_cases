{
 "cells": [
  {
   "cell_type": "code",
   "execution_count": 1,
   "metadata": {},
   "outputs": [],
   "source": [
    "import tiktoken\n",
    "import pandas as pd\n",
    "from pathlib import Path\n",
    "from tqdm.auto import tqdm\n",
    "from transformers import pipeline\n",
    "\n",
    "from summary import *\n",
    "\n",
    "\n",
    "tqdm.pandas()"
   ]
  },
  {
   "cell_type": "code",
   "execution_count": 3,
   "metadata": {},
   "outputs": [],
   "source": [
    "enc = tiktoken.encoding_for_model(\"gpt-3.5-turbo\")\n",
    "\n",
    "model_ids = [\n",
    "    'sshleifer/distilbart-cnn-12-6',                # bad with punctuation\n",
    "    # 'marianna13/flan-t5-base-summarization',        # generally good, but breaks off at the end\n",
    "    'Falconsai/text_summarization',                 # not bad, lack of punctuation\n",
    "    'slauw87/bart_summarisation'                    # a lot of misinterpreting, but well structured and concise\n",
    "]"
   ]
  },
  {
   "cell_type": "code",
   "execution_count": 2,
   "metadata": {},
   "outputs": [],
   "source": [
    "path = Path('../parsing_easylaw_ai/data')\n",
    "\n",
    "processed_cases_path = path / 'cases_processed.csv'\n",
    "\n",
    "\n",
    "cases = pd.read_csv(path / 'cases_base.csv', sep='\\t', encoding='utf-8', chunksize=30)"
   ]
  },
  {
   "cell_type": "code",
   "execution_count": null,
   "metadata": {},
   "outputs": [],
   "source": [
    "if processed_cases_path.exists():\n",
    "    processed_cases_no = pd.read_csv(\n",
    "        processed_cases_path, \n",
    "        sep='\\t', \n",
    "        encoding='utf-8', \n",
    "        usecols=['easylaw_case_no']\n",
    "        )\n",
    "\n",
    "\n",
    "for df in cases:\n",
    "    df.columns = list(map(lambda x: x.lower().replace(' ', '_').strip('.'), df.columns))\n",
    "    df['tokens_of_judgment'] = df['judgment'].apply(lambda x: len(enc.encode(x)))\n",
    "\n",
    "\n",
    "    if processed_cases_path in globals():\n",
    "        df = df[~df['easylaw_case_no'].isin(processed_cases_no['easylaw_case_no'])]\n",
    "\n",
    "        if not df.shape[0]:\n",
    "            continue\n",
    "\n",
    "\n",
    "    for model_id in model_ids:\n",
    "        summarizer = pipeline(\"summarization\", model=model_id)\n",
    "\n",
    "        df[f'summarized_{model_id.split(\"/\")[0]}'] = df['judgment']\\\n",
    "            .progress_apply(lambda x: recursion_summarizing(\n",
    "                case=x, \n",
    "                model=summarizer, \n",
    "                chunk_size=512-10, \n",
    "                min_length=30, \n",
    "                max_length=150\n",
    "                ))\n",
    "\n",
    "        del summarizer\n",
    "\n",
    "\n",
    "    df.to_csv(\n",
    "        processed_cases_path, \n",
    "        mode='a', \n",
    "        sep='\\t', \n",
    "        index=False, \n",
    "        header=not processed_cases_path.exists(), \n",
    "        encoding='utf-8'\n",
    "                )"
   ]
  },
  {
   "cell_type": "code",
   "execution_count": 8,
   "metadata": {},
   "outputs": [
    {
     "ename": "",
     "evalue": "",
     "output_type": "error",
     "traceback": [
      "\u001b[1;31mThe Kernel crashed while executing code in the the current cell or a previous cell. Please review the code in the cell(s) to identify a possible cause of the failure. Click <a href='https://aka.ms/vscodeJupyterKernelCrash'>here</a> for more info. View Jupyter <a href='command:jupyter.viewOutput'>log</a> for further details."
     ]
    }
   ],
   "source": [
    "df = next(cases)\n",
    "\n",
    "df.columns = list(map(lambda x: x.lower().replace(' ', '_').strip('.'), df.columns))\n",
    "df['tokens_of_judgment'] = df['judgment'].apply(lambda x: len(enc.encode(x)))\n",
    "\n",
    "\n",
    "\n",
    "# https://huggingface.co/docs/transformers/model_doc/pegasus\n",
    "from transformers import AutoTokenizer, PegasusForConditionalGeneration\n",
    "\n",
    "model = PegasusForConditionalGeneration.from_pretrained(\"google/pegasus-xsum\")\n",
    "tokenizer = AutoTokenizer.from_pretrained(\"google/pegasus-xsum\")\n",
    "\n",
    "ARTICLE_TO_SUMMARIZE = df.loc[2, 'judgment']\n",
    "inputs = tokenizer(ARTICLE_TO_SUMMARIZE, max_length=1024, return_tensors=\"pt\", truncation=True)\n",
    "\n",
    "# Generate Summary\n",
    "summary_ids = model.generate(inputs[\"input_ids\"])\n",
    "output = tokenizer.batch_decode(summary_ids, skip_special_tokens=True, clean_up_tokenization_spaces=False)[0]"
   ]
  },
  {
   "cell_type": "code",
   "execution_count": null,
   "metadata": {},
   "outputs": [],
   "source": []
  }
 ],
 "metadata": {
  "kernelspec": {
   "display_name": "fin_venv",
   "language": "python",
   "name": "python3"
  },
  "language_info": {
   "codemirror_mode": {
    "name": "ipython",
    "version": 3
   },
   "file_extension": ".py",
   "mimetype": "text/x-python",
   "name": "python",
   "nbconvert_exporter": "python",
   "pygments_lexer": "ipython3",
   "version": "3.10.13"
  }
 },
 "nbformat": 4,
 "nbformat_minor": 2
}
