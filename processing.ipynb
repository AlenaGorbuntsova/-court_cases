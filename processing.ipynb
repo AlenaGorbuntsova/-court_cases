{
 "cells": [
  {
   "cell_type": "code",
   "execution_count": 46,
   "metadata": {},
   "outputs": [],
   "source": [
    "import os\n",
    "import tiktoken\n",
    "import pandas as pd\n",
    "from pathlib import Path\n",
    "from tqdm.auto import tqdm\n",
    "from transformers import pipeline\n",
    "\n",
    "from summary import *\n",
    "\n",
    "\n",
    "tqdm.pandas()\n",
    "\n",
    "\n",
    "path = Path('../parsing_easylaw_ai/data')\n",
    "\n",
    "processed_cases_path = path / 'cases_processed.csv'"
   ]
  },
  {
   "cell_type": "code",
   "execution_count": 48,
   "metadata": {},
   "outputs": [],
   "source": [
    "enc = tiktoken.encoding_for_model(\"gpt-3.5-turbo\")\n",
    "\n",
    "model_ids = [\n",
    "    'sshleifer/distilbart-cnn-12-6',                # bad with punctuation\n",
    "    # 'marianna13/flan-t5-base-summarization',        # generally good, but breaks off at the end\n",
    "    'Falconsai/text_summarization',                 # not bad, lack of punctuation\n",
    "    'slauw87/bart_summarisation'                    # a lot of misinterpreting, but well structured and concise\n",
    "]"
   ]
  },
  {
   "cell_type": "code",
   "execution_count": 49,
   "metadata": {},
   "outputs": [],
   "source": [
    "cases = pd.read_csv(path / 'cases_base.csv', sep='\\t', encoding='utf-8', chunksize=1000)"
   ]
  },
  {
   "cell_type": "code",
   "execution_count": 50,
   "metadata": {},
   "outputs": [],
   "source": [
    "df = next(cases)\n",
    "\n",
    "df.columns = list(map(lambda x: x.lower().replace(' ', '_'), df.columns))\n",
    "df['tokens_of_judgment'] = df['judgment'].apply(lambda x: len(enc.encode(x)))"
   ]
  },
  {
   "cell_type": "code",
   "execution_count": 1,
   "metadata": {},
   "outputs": [],
   "source": [
    "for df in cases:\n",
    "    df.columns = list(map(lambda x: x.lower().replace(' ', '_'), df.columns))\n",
    "    df['tokens_of_judgment'] = df['judgment'].apply(lambda x: len(enc.encode(x)))\n",
    "\n",
    "    for model_id in model_ids:\n",
    "        summarizer = pipeline(\"summarization\", model=model_id)\n",
    "\n",
    "        df[f'summarized_{model_id.split(\"/\")[0]}'] = df['judgment']\\\n",
    "            .progress_apply(lambda x: \n",
    "                recursion_summarizing(case=x, model=summarizer, chunk_size=512-10, min_length=30, max_length=150)\n",
    "                )\n",
    "\n",
    "        del summarizer\n",
    "\n",
    "        df.to_csv(\n",
    "            processed_cases_path, \n",
    "            mode='a', \n",
    "            sep='\\t', \n",
    "            index=False, \n",
    "            header=not processed_cases_path.exists(), \n",
    "            encoding='utf-8'\n",
    "                    )"
   ]
  },
  {
   "cell_type": "code",
   "execution_count": null,
   "metadata": {},
   "outputs": [],
   "source": []
  },
  {
   "cell_type": "code",
   "execution_count": null,
   "metadata": {},
   "outputs": [],
   "source": []
  },
  {
   "cell_type": "code",
   "execution_count": null,
   "metadata": {},
   "outputs": [],
   "source": []
  },
  {
   "cell_type": "code",
   "execution_count": 3,
   "metadata": {},
   "outputs": [],
   "source": [
    "pd.read_csv(path / 'cases_processed.csv', sep='\\t', encoding='utf-8')"
   ]
  }
 ],
 "metadata": {
  "kernelspec": {
   "display_name": "fin_venv",
   "language": "python",
   "name": "python3"
  },
  "language_info": {
   "codemirror_mode": {
    "name": "ipython",
    "version": 3
   },
   "file_extension": ".py",
   "mimetype": "text/x-python",
   "name": "python",
   "nbconvert_exporter": "python",
   "pygments_lexer": "ipython3",
   "version": "3.10.13"
  }
 },
 "nbformat": 4,
 "nbformat_minor": 2
}
