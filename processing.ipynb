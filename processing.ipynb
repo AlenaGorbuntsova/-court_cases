{
 "cells": [
  {
   "cell_type": "code",
   "execution_count": 5,
   "metadata": {},
   "outputs": [],
   "source": [
    "import tiktoken\n",
    "import pandas as pd\n",
    "from pathlib import Path\n",
    "from tqdm.auto import tqdm\n",
    "from transformers import pipeline\n",
    "\n",
    "from summary import *\n",
    "\n",
    "\n",
    "tqdm.pandas()"
   ]
  },
  {
   "cell_type": "code",
   "execution_count": 41,
   "metadata": {},
   "outputs": [],
   "source": [
    "enc = tiktoken.encoding_for_model(\"gpt-3.5-turbo\")\n",
    "\n",
    "model_ids = [\n",
    "    'sshleifer/distilbart-cnn-12-6',                # bad with punctuation\n",
    "    # 'marianna13/flan-t5-base-summarization',        # generally good, but breaks off at the end\n",
    "    'Falconsai/text_summarization',                 # not bad, lack of punctuation\n",
    "    'slauw87/bart_summarisation'                    # a lot of misinterpreting, but well structured and concise\n",
    "]"
   ]
  },
  {
   "cell_type": "code",
   "execution_count": 42,
   "metadata": {},
   "outputs": [],
   "source": [
    "path = Path('../parsing_easylaw_ai/data')\n",
    "processed_cases_path = path / 'cases_processed.csv'\n",
    "\n",
    "\n",
    "cases = pd.read_csv(path / 'cases_base.csv', sep='\\t', encoding='utf-8', chunksize=100)\n",
    "\n",
    "processed_cases_no = pd.read_csv(processed_cases_path, sep='\\t', encoding='utf-8', usecols=['easylaw_case_no'])"
   ]
  },
  {
   "cell_type": "code",
   "execution_count": null,
   "metadata": {},
   "outputs": [],
   "source": [
    "for df in tqdm(cases):\n",
    "    df.columns = list(map(lambda x: x.lower().replace(' ', '_').strip('.'), df.columns))\n",
    "    df['tokens_of_judgment'] = df['judgment'].apply(lambda x: len(enc.encode(x)))\n",
    "    \n",
    "    if not df[~df['easylaw_case_no'].isin(processed_cases_no['easylaw_case_no'].tolist())].shape[0]:\n",
    "        continue\n",
    "\n",
    "    for model_id in model_ids:\n",
    "        summarizer = pipeline(\"summarization\", model=model_id)\n",
    "\n",
    "        df[f'summarized_{model_id.split(\"/\")[0]}'] = df['judgment']\\\n",
    "            .progress_apply(\n",
    "                lambda x: recursion_summarizing(case=x, model=summarizer, chunk_size=512-10, min_length=30, max_length=150)\n",
    "                )\n",
    "\n",
    "        del summarizer\n",
    "\n",
    "\n",
    "    df.to_csv(\n",
    "        processed_cases_path, \n",
    "        mode='a', \n",
    "        sep='\\t', \n",
    "        index=False, \n",
    "        header=not processed_cases_path.exists(), \n",
    "        encoding='utf-8'\n",
    "                )\n",
    "\n",
    "    # 1 hour ~ 100 judgments by model_ids[0]\n",
    "    # 0.5 - 100\n",
    "    # 1.5 - 100"
   ]
  }
 ],
 "metadata": {
  "kernelspec": {
   "display_name": "fin_venv",
   "language": "python",
   "name": "python3"
  },
  "language_info": {
   "codemirror_mode": {
    "name": "ipython",
    "version": 3
   },
   "file_extension": ".py",
   "mimetype": "text/x-python",
   "name": "python",
   "nbconvert_exporter": "python",
   "pygments_lexer": "ipython3",
   "version": "3.10.13"
  }
 },
 "nbformat": 4,
 "nbformat_minor": 2
}
