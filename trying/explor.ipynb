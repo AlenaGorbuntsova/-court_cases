{
 "cells": [
  {
   "cell_type": "code",
   "execution_count": 2,
   "metadata": {},
   "outputs": [],
   "source": [
    "import os\n",
    "import pandas as pd\n",
    "from pathlib import Path\n",
    "\n",
    "path = Path('../../parsing_easylaw_ai/data')"
   ]
  },
  {
   "cell_type": "code",
   "execution_count": 3,
   "metadata": {},
   "outputs": [],
   "source": [
    "cases = pd.read_csv(path / 'cases_processed.csv', sep='\\t', encoding='utf-8', nrows=10000)\n",
    "\n",
    "cases = cases.drop_duplicates('easylaw_case_no').reset_index(drop=True)\n",
    "cases['date'] = pd.to_datetime(cases['date'])"
   ]
  },
  {
   "cell_type": "code",
   "execution_count": 9,
   "metadata": {},
   "outputs": [
    {
     "name": "stdout",
     "output_type": "stream",
     "text": [
      "[journal, court, date, appeal_no, judge, parties, lawyers,\n",
      "       statutes, judgment, easylaw_case_no, search_term]\n"
     ]
    }
   ],
   "source": [
    "print(\"\"\"['journal', 'court', 'date', 'appeal_no', 'judge', 'parties', 'lawyers',\n",
    "       'statutes', 'judgment', 'easylaw_case_no', 'search_term']\"\"\".replace(\"'\", ''))"
   ]
  },
  {
   "cell_type": "code",
   "execution_count": 8,
   "metadata": {},
   "outputs": [],
   "source": [
    "the_case = cases[cases['easylaw_case_no'] == 1100519].iloc[0]"
   ]
  },
  {
   "cell_type": "code",
   "execution_count": 9,
   "metadata": {},
   "outputs": [
    {
     "name": "stdout",
     "output_type": "stream",
     "text": [
      "MUHAMMAD MUNIR PERACHA, J.- Muslim Commercial Bank Limited filed the present Company Original in this Court under sections 305(e) and 306(1) read with section 325 of the Companies Ordinance, 1984 with the prayer that the respondent-Company namely Dewan Salman Fibre Limited be wound up. For the present purpose Paragraphs 31, 39 and 40 of the petition are relevant and are being reproduced: ~ “31. that the petitioner-Bank apprehending that the Company/Respondent No. 1 does not have sufficient assets to meet its liabilities and therefore may not be able to pay off the-debt owed towards the petitioner-Bank because “the substratum of the Company/ respondent No. 1 has gone, the company/Respondent No.l is unable to pay its debts, and therefore has become commercially insolvent\" the petitioner-Bank through its counsel also issued a statutory demand notice under' section 305(e) and 306(1) (a) of the Companies Ordinance, 1984 dated 18-2-2009 to the respondent No. l wherein it demanded the respondents No.\n",
      "\n",
      "1 to clear all existing liabilities towards the plaintiff-Bank to the tune of Rs.268,710,000 (Rupees Two Hundred Sixty Eight Million Seven Hundred and Ten Thousand Only) as on 31-7-2008 along with costs of funds from the date onwards and other payable charges etci, within the statutory stipulated period of 30 days.\n",
      "\n",
      "39. That in addition to the liabilities of the petitioner the respondent also owes Billions of rupees from the Banking industry and is unable to pay its debts to other financial institutions hence causing huge losses to the entire banking sector.\n",
      "\n",
      "40. That it is clear from the above stated facts that “the Substratum of the respondent No. 1 has gone, the respondent No.l is unable to pay its debts, and therefore has become commercially insolvent\" hence it is in the best interest of shareholders, members, creditors, contributories, the respondent No. 1 should be ordered to be wound up. hence this petition:” In the Company Original, the respondent-Company filed C.M.No. 165 of 2009 under Order VII rule 11(d) of the C.P.C. read with rule 7 of the Companies Court Rules, 1997 ft rejection of the winding up petition. The C.M. was placed before me as urgent matter on 16-6-2009, when the main Company Original was also fixed. Learned counsel for the petitioner in Company Original No.4 of 2009 was present in the Court in connection with the main Company Original. The learned counsel for the petitioner in Company Original No.4 of 2009, Jam Asif Mehmood opted to appear in C.M.No. 15 of 2009 and agreed to argue the C.M. on behalf of the Muslim Commercial Bank Limited. C.M. No. 108 of 2009, filed by My Bank with the prayer that it be impleaded as a respondent in the Company Original, was also fixed before the Court on 16-6-2009. The said application was filed by My Bank through Mr. Tauqeer Ahmad Shah. Mr. Shahbaz Yar Khan Advocate filed his power of attorney on behalf . of Dewan Sulman Fibre Limited, who opposed the prayer of My Bank in C.M.No. 108 of 2009. Mr. Shahbaz Yar Khan Advocate filed reply to C.M. No. 108 of 2009.\n",
      "\n",
      "2. I have heard Jam Asif Mehmood Advocate appearing for the petitioner in Company Original No.4 of 2009, Mr. Azid Nafees Advocate representing Dewan Salman Fibre Limited in C.M.Np. 165 of 2009, Mr. Tauqeer Ahmad Shah, representing My Bank in C. M. No. 108 of 2009 and Mr. Shahbaz Yar Khan representing Dewan Salman Fibre Limited in C.M.No. 108 of 2009. Mr.\n",
      "\n",
      "Raja Naeem Akbar, appeared on behalf of SECP, respondent No.2. He was also heard.\n",
      "\n",
      "3. Mr. Azid Nafees and Shahbaz Yar Khan Advocates, with reference to sections 4, 5, 7 and 9 of the Financial Institutions (Recovery of Finances) Ordinance, 2001 submit that the petitioner-Company being a financial institution cannot file a winding up petition particularly on the ground mentioned in clause “e” of section 305 of the Companies Ordinance, 1984. According to the learned counsel, if a customer commits a default in fulfilment of any obligation with regard to any finance, the financial institution can only invoke the jurisdiction of the Banking Court by presenting the plaint under section 9 of the Financial Institutions (Recovery of Finances) Ordinance, 20Jl. They contend that in view of section 4 of the Ordinance, 2001, the provisions of the Ordinance, 2001 have an overriding effect on the provisions of any other law for the time being in force including the Companies Ordinance, 1984. They contend that the petitioner-Bank having filed a suit for recovery of money in the Banking Court, High Court of Sindh, Karachi, cannot file a winding up petition on the ground that the respondent-Company is unable to pay its debts, on the basis of failure to pay the debts for the recovery whereof the petitioner-Bank has filed a suit for recovery. They relied on the following cases:- (1) “Maieed A Tahir v. United Bank Limited 2008 CLD 1162; (2) . Abdur Rehman Allana v. Citibank 2003 CLD 1843; (3) Messrs S. Ghulam Dastagir and Sons v. Union Insurance Company of Pakistan Limited PLD 1995 Lahore 290 and (4) Maj (Retd.) Javed Inayat Khan Kiyyani v. the State PLD 2006 Lahore 752.\n",
      "\n",
      "4. On the other hand, Jam Asif Mehmood and Mr. Qutab-ud-Din, Advocates submit that Financial Institutions (Recovery of Finances) Ordinance, 2001 and the Companies Ordinance, 1984 deal with two different situations. They submit that merely because a suit for recovery of debt has been filed by the petitioner-Bank, the petitioner is not debarred from invoking the jurisdiction of the Court under section 305 of the Companies Ordinance, 1984. They rely on:- “Messrs Sindh Glass Industries Ltd. v. Messrs National Development Finance Corporation, PLD 1996 SC 601; Messrs Pakland Cement Limited, 2002 CLD 1392.\n",
      "\n",
      "They also referred to subsection 5 of section 7 of the Financial Institutions (Recovery of Finances) Ordinance, 2001 to contend that notwithstanding the exclusive jurisdiction of a Banking Court contemplated in section 7(4), the right of Financial Institution to seek any other remedy before any other Court is not barred.\n",
      "\n",
      "5. Section 4, section 5(1), section 7(4) and (5) and section 9(1) of the Financial Institutions (Recovery of Finances) Ordinance, 2001 are reproduced hereunder:- “Section 4: Ordinance to override other laws.-The provisions of this Ordinance shall have effect notwithstanding anything inconsistent therewith contained in any other law for the time being in force.\n",
      "\n",
      "Section 5(1): Establishment of Banking Court.-The Federal Government may, by notification in the official Gazette, establish as many Banking Courts as it considers necessary to exercise jurisdiction under this Ordinance and appoint a Judge for each of such Courts and where it establishes more Banking Courts than one, it shall specify in the Notification the territorial limits within which each of the Banking Courts shall exercise its jurisdiction.\n",
      "\n",
      "Section 7(4):-Subject to subsection no Court other than a Banking Court shall have or exercise any jurisdiction with respect to any matter to which the jurisdiction of a Banking Court extends under this Ordinance, including a decision as to the exercise or otherwise of a finance and the execution of a decree passed by a Banking Court.\n",
      "\n",
      "Section 7(5).-Nothing in subsection 4 shall be deemed to affect:- (a) the right of a financial institution to seek any remedy before any Court or otherwise that may be available to it under the law by which the financial institution may have been established; or lb) the powers of the financial institution or jurisdiction of any Court such as it referred to in clause or require the transfer to a Banking Court of any proceedings pending before any financial institution or such Court immediately before the coming into force of this Ordinance. .\n",
      "\n",
      "Section 9(1).-Procedure of Banking Courts.-Where a customer or a financial institution commits a default in fulfilment of any obligation with regard to any finance, the financial institution or, as the case may be, the customer, may institute a suit in the Banking Court by presenting a plaint which shall be verified on Oath, in the case of a financial institution by the Branch Manager or such other office of the financial institution as may be duly authorized in this behalf by power of attorney or otherwise.” 6. Section 4 of the 2001 Ordinance simply provides that provisions of the 2001, Ordinance shall have effect notwithstanding anything inconsistent therewith contained in any other law for the time being in force. Before invoking section 4 of the 2001 Ordinance, the respondent in the Company Original has to establish that there is any provision in the Companies Ordinance, 1984, which is inconsistent with the , provisions of the 2001 Ordinance and it is only then that the provision of the Ordinance, 2001 shall override the inconsistent provisions of the Companies Ordinance, 1984. There is no doubt that the Banking Court established under section 5(1) of the 2001 Ordinance has the exclusive jurisdiction with respect to any matter which lies within the jurisdiction of the Banking Court. The learned counsel appearing for the respondent-Company are also right in saying that question to the existence or otherwise of finance is also to be resolved exclusively by the Banking Court. However, the' exclusiveness, of the jurisdiction of the Banking Court is confined to only those matters, which are * in the jurisdiction of the Banking Court. I am in agreement with the learned counsel for Dewan Salman Fibre Company Limited that the company is a customer and the petitioner is a Financial Institution. It is also correct that the petitioner claim that the respondent-Company has committed a default in fulfilment of its obligation with regard to finance and that is why the plaintiff Bank has filed a suit for recovery of money before the Banking Court. However, section 305 deals with an altogether different situation. If a company is solvent and is able to pay its debts, the winding up order cannot be passed { against it, even if the company has neglected to pay the debts to a particular creditor. The winding up order can only be passed if it is established before the Court that the company is unable to pay its debts. If a creditor whether it is a financial institution or not is to file a suit for recovery of its debts, it will invoke the jurisdiction of the Banking Court or Ordinary Civil Court as the case may be. However, if the creditor can establish before a Company Judge that the Company is unable to pay its debts, it can invoke the jurisdiction of the Company Judge under section 305 of the Companies Ordinance, 1984 for winding up of the company. Thus the Financial Institutions (Recovery of Finances) Ordinance, 2001 and the Companies Ordinance, 1984 cover two different situations.\n",
      "\n",
      "7. As far the judgment reported as PLD 1995 Lah. 290 is concerned, that is distinguishable. There was a special provision for winding up of an Insurance Company in the Insurance Act, 1938. The learned Single Judge of the High Court of Lahore in the precedent case came to the conclusion that there being a special provision regarding winding up of an Insurance Company in the Insurance Act, 1938, general provisions contained in the Companies Ordinance, 1984 shall be overridden by the Insurance Act, 1938. The law declared in the precedent case, therefore, cannot be made applicable in the present case. However, the contention of the learned counsel for the petitioner in the Company petition that in view of subsection (5) of section 7, the right of financial institution to seek any remedy before any Court or otherwise that may be available to it under the law by which the financial institution has been established, Is not affected by the exclusiveness of the jurisdiction vested in the Banking Court under subsection though correct as a proposition of law but is not relevant in this case. In certain laws, under which certain financial institutions have been established a power has been given to the institutions to invoke the jurisdiction of the District Judge or to recover the amount advanced by the financial institutions as arrears of land revenue. Subsection 5 of section 7 was enacted to save such powers.\n",
      "\n",
      "8. In view of what has been said above, I am of the opinion' that the winding up petition filed by Muslim Commercial Bank is competent. C.M.No. 165 of 2009 is dismissed.\n",
      "\n",
      "C.M.No. 108 of 2009 9. The applicant My Bank claims to be one of the creditor of the respondent Company. It is, therefore, ordered to be impleaded as respondent in the Company Original. The C.M. stands disposed of.\n",
      "\n",
      "10. Main Company Original be fixed on 2-7-2009.\n",
      "\n",
      "M.H./487/Isl. Application dismissed.\n"
     ]
    }
   ],
   "source": [
    "print(the_case['judgment'])"
   ]
  },
  {
   "cell_type": "code",
   "execution_count": 10,
   "metadata": {},
   "outputs": [
    {
     "name": "stdout",
     "output_type": "stream",
     "text": [
      "Muslim Commercial Bank Limited filed the present Company Original in this Court under sections 305(e) and 306(1) read with section 325 of the Companies Ordinance, 1984. Petition was filed with the prayer that the respondent-Company namely Dewan Salman Fibre Limited be wound up.\n",
      "C.M.No.\n",
      "165 of 2009 was filed under Order VII rule 11(d) of the C.P.C. read with rule 7 of the Companies Court Rules, 1997 ft rejection of the winding up petition.\n",
      "Financial Institutions (Recovery of Finances) Ordinance, 2001 and the Companies Ordinance (1984) contend that the petitioner-Bank having filed a suit for recovery of money in the Banking Court, High Court of Sindh, Karachi, cannot file a winding up petition on the ground that the respondent-Company is unable to pay its debts, on the basis of failure to pay the debts.\n",
      "They submit that merely because a suit for recovery of debt has been filed by the petitioner-Bank, the petitioner is not debarred from invoking the jurisdiction of the Court under section 305 of the Companies Ordinance, 1984. They rely on ‘Messrs Sindh Glass Industries Ltd.\n",
      "v. Messrs National Development Finance Corporation, PLD 1996 SC 601; Messrs Pakland Cement Limited, 2002 CLD.  The 2001 Ordinance simply provides that provisions of the 2001, Ordinance shall have effect notwithstanding anything inconsistent therewith contained in any other law for the time being in force.\n",
      "There is no doubt that the Banking Court established under section 5(1) has the exclusive jurisdiction.\n",
      "The learned counsel appearing for the respondent-Company are also right in saying that question to the existence or otherwise of finance is also to be resolved exclusively by the banking Court.\n",
      "The winding up order can only be passed if it is established before the Court that the company is unable to pay its debts.\n",
      "Section 305 deals with an altogether different situation if a company is solvent and is able to pay debts.\n",
      "If a creditor can establish before a Company Judge that the Company is unable.\n",
      "to pay the debts to a particular creditor, it can invoke the jurisdiction of the Company Judge under section 305 of the Companies Ordinance, 1984.  C.M.No.\n",
      "165 of 2009 is dismissed.\n",
      "Muslim Commercial Bank claims to be one of the creditors of the respondent Company.\n",
      "Application dismissed.\n"
     ]
    }
   ],
   "source": [
    "print(the_case['summarized_sshleifer'])"
   ]
  },
  {
   "cell_type": "code",
   "execution_count": 11,
   "metadata": {},
   "outputs": [
    {
     "name": "stdout",
     "output_type": "stream",
     "text": [
      "MUHAMMAD MUNIR PERACHA, J.- Muslim Commercial Bank Limited filed the present Company Original in this Court under sections 305(e) and 306(1) read with section 325 of the Companies Ordinance, 1984. For the present purpose Paragraphs 31, 39 and 40 of the petition are relevant and are being reproduced.\n",
      "Respondent-Company filed C.M.No.\n",
      "165 of 2009 under Order VII rule 11(d) of the Companies Court Rules, 1997 ft rejection of the winding up petition.\n",
      "The C. M. was placed before me as urgent matter on 16-6-2009, when the main Company Original was also fixed.\n",
      "Mr. Azid Nafees and Shahbaz Yar Khan Advocates, with reference to sections 4, 5, 7 and 9 of the Financial Institutions Ordinance, 2001. They contend that petitioner-Bank having filed a suit for recovery of money in the Banking Court, High Court of Sindh, Karachi, cannot file a winding up petition on the ground that the respondent-Company is unable to pay its debts.\n",
      "Section 4: Establishment of Banking Court.-The Federal Government may establish as many Banking Courts as it considers necessary to exercise jurisdiction under this Ordinance and appoint a Judge for each of such Courts.\n",
      "Section 7(4):-Subject to subsection no Court other than a Banking Court shall have or exercise any jurisdiction.\n",
      "Section 7(5).-Nothing in subsection 4 shall be deemed to affect:- (a) the right of a financial institution to seek any remedy before any Court or otherwise that may be available to it under the law by which the financial institution may have been established.\n",
      "Section 9(1).-Procedure of Banking Courts.-Where a customer or a Financial institution commits a default in fulfilment of any obligation with regard to any finance, the Financial institution or, as the case may be, the customer, may Section 305 deals with an altogether different situation.\n",
      "If a company is solvent and is able to pay its debts, the winding up order cannot be passed against it, even if the company has neglected to pay the debts to a particular creditor.\n",
      "It will invoke the jurisdiction of the Banking Court or Ordinary Civil Court as the case may be.\n",
      "The Financial Institutions Ordinance 2001 and the Companies Ordinance 1984 cover two different situations.\n",
      "Subsection 5 of section 7 was enacted to save such powers.\n",
      "I am of the opinion' that the winding up petition filed by Muslim Commercial Bank is competent.\n",
      "C.M.No.\n",
      "165 of 2009 is dismissed.\n"
     ]
    }
   ],
   "source": [
    "print(the_case['summarized_falconsai'])"
   ]
  },
  {
   "cell_type": "code",
   "execution_count": 12,
   "metadata": {},
   "outputs": [
    {
     "name": "stdout",
     "output_type": "stream",
     "text": [
      "Muslim Commercial Bank Limited filed the Company Original in this Court asking that Dewan Salman Fibre Limited be wound up.\n",
      "The petition states that the company is unable to pay its debts and has become commercially insolvent.\n",
      "Muslim Commercial Bank demands the company to clear all existing liabilities towards the plaintiff-Bank to the tune of Rs.268,710,000. The main Company Original was placed before the Court on 16-6-2009. Jam Asif Mehmood, the learned counsel for the petitioner in Company Original No.4 of 2009, agreed to argue the C.M.No.\n",
      "15 of 2009 on behalf of Muslim Commercial Bank Limited.\n",
      "My Bank No. 108 of 2009 was filed by Mr. Tauqeer Ahmad Shah.\n",
      "Mr. Shahbaz Yar Khan Advocate filed his power of attorney on behalf.\n",
      "of Dewan Sulman Fibre Limited in C.Np.\n",
      "165 of 2009. Azid Nafees, Shahbaz Yar Khan Advocates and Jam Asif Mehmood and Mr. Qutab-ud-Din, Advocates argue that the Financial Institutions (Recovery of Finances) Ordinance, 2001 and the Companies Ordnance, 1984 deal with different situations.\n",
      "They argue that a suit for recovery of debt has been filed by the petitioner-Bank, but the petitioner is not debarred from invoking the jurisdiction of the Court under section 305 of the Companies Ordinance, 1984. 2001 Ordinance says that the provisions of the 2001 Ordinance have effect notwithstanding anything inconsistent therewith contained in any other law for the time being in force.\n",
      "Dewan Salman Fibre Company Limited is a customer and the petitioner is a Financial Institution.\n",
      "The Banking Court established under section 5(1) has the exclusive jurisdiction with respect to matters within the jurisdiction of the Banking Court.\n",
      "Bank filed a suit for recovery of money before the Banking Court.\n",
      "Section 305 of the Companies Ordinance, 1984 allows winding up of a company if it is established that the company is unable to pay its debts.\n",
      "Muslim Commercial Bank's winding up petition filed by C.M.No.\n",
      "165 of 2009 is dismissed.\n",
      "The applicant My Bank claims to be one of the creditors of the respondent Company.\n",
      "It is, therefore, ordered to be impleaded as respondent in the Company Original.\n"
     ]
    }
   ],
   "source": [
    "print(the_case['summarized_slauw87'])"
   ]
  }
 ],
 "metadata": {
  "kernelspec": {
   "display_name": "fin_venv",
   "language": "python",
   "name": "python3"
  },
  "language_info": {
   "codemirror_mode": {
    "name": "ipython",
    "version": 3
   },
   "file_extension": ".py",
   "mimetype": "text/x-python",
   "name": "python",
   "nbconvert_exporter": "python",
   "pygments_lexer": "ipython3",
   "version": "3.10.13"
  }
 },
 "nbformat": 4,
 "nbformat_minor": 2
}
